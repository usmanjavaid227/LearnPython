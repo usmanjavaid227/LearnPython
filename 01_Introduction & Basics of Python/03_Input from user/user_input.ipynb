{
 "cells": [
  {
   "cell_type": "markdown",
   "metadata": {},
   "source": [
    "# **Input**"
   ]
  },
  {
   "cell_type": "markdown",
   "metadata": {},
   "source": [
    "- Built_in Function\n",
    "- Ask for the user's name and print it:"
   ]
  },
  {
   "cell_type": "code",
   "execution_count": 4,
   "metadata": {},
   "outputs": [
    {
     "name": "stdout",
     "output_type": "stream",
     "text": [
      "your age is 30\n"
     ]
    }
   ],
   "source": [
    "age=input(\"enter your age\")\n",
    "print(\"your age is\",age)"
   ]
  },
  {
   "cell_type": "markdown",
   "metadata": {},
   "source": [
    "- Print your name "
   ]
  },
  {
   "cell_type": "code",
   "execution_count": 6,
   "metadata": {},
   "outputs": [
    {
     "name": "stdout",
     "output_type": "stream",
     "text": [
      "Hello, usman\n"
     ]
    }
   ],
   "source": [
    "x = input(\"Enter your name: \")\n",
    "print('Hello, ' + x)"
   ]
  },
  {
   "cell_type": "markdown",
   "metadata": {},
   "source": [
    "- The `input()` function allows user input."
   ]
  },
  {
   "cell_type": "markdown",
   "metadata": {},
   "source": [
    "### Question:\n",
    "- prompt name using `input()` function\n",
    "    ```python\n",
    "    name=input(\"What is you Name : \")\n",
    "    ```\n",
    "- Now prompt age using `input()` function\n",
    "    ```python\n",
    "    age=input(\"Enter Your age : \")\n",
    "    ```\n",
    "- display Your name with you Age like :\n",
    "    ```python\n",
    "    print('Hello, ' + name + ' you are ' + age + ' years old.')\n",
    "    ```"
   ]
  },
  {
   "cell_type": "code",
   "execution_count": 7,
   "metadata": {},
   "outputs": [],
   "source": []
  },
  {
   "cell_type": "markdown",
   "metadata": {},
   "source": [
    "- Add to enter 2 numbers from user and print them.\n",
    "```python\n",
    "        a = input(\"Enter 1st Number: \")\n",
    "        b = input(\"Enter 2nd Number: \")\n",
    "        c = a + b\n",
    "        print(c)\n",
    "```"
   ]
  },
  {
   "cell_type": "code",
   "execution_count": 8,
   "metadata": {},
   "outputs": [
    {
     "name": "stdout",
     "output_type": "stream",
     "text": [
      "30\n"
     ]
    }
   ],
   "source": [
    "\n"
   ]
  },
  {
   "cell_type": "markdown",
   "metadata": {},
   "source": [
    "---"
   ]
  }
 ],
 "metadata": {
  "kernelspec": {
   "display_name": "Python 3.10.4 64-bit",
   "language": "python",
   "name": "python3"
  },
  "language_info": {
   "codemirror_mode": {
    "name": "ipython",
    "version": 3
   },
   "file_extension": ".py",
   "mimetype": "text/x-python",
   "name": "python",
   "nbconvert_exporter": "python",
   "pygments_lexer": "ipython3",
   "version": "3.10.4"
  },
  "orig_nbformat": 4,
  "vscode": {
   "interpreter": {
    "hash": "369f2c481f4da34e4445cda3fffd2e751bd1c4d706f27375911949ba6bb62e1c"
   }
  }
 },
 "nbformat": 4,
 "nbformat_minor": 2
}
