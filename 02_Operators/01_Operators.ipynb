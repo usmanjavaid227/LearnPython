{
 "cells": [
  {
   "cell_type": "markdown",
   "metadata": {},
   "source": [
    "# **Operators**"
   ]
  },
  {
   "cell_type": "markdown",
   "metadata": {},
   "source": [
    "- Operators are used to perform operations on variables and values.\n",
    "- _**Types :**_"
   ]
  },
  {
   "cell_type": "markdown",
   "metadata": {},
   "source": [
    "1. Arithmetic operators\n",
    "2. Assignment operators\n",
    "3. Comparison operators\n",
    "4. Logical operators\n",
    "5. Identity operators\n",
    "6. Membership operators\n",
    "7. Bitwise operators"
   ]
  },
  {
   "cell_type": "markdown",
   "metadata": {},
   "source": [
    "# 1. Arithmetic operators\n",
    "`+, -, *, /, %, **, //`"
   ]
  },
  {
   "cell_type": "code",
   "execution_count": 2,
   "metadata": {},
   "outputs": [
    {
     "name": "stdout",
     "output_type": "stream",
     "text": [
      "addition is  5\n",
      "subtraction is  -1\n",
      "multiplication is  6\n",
      "division is  0.6666666666666666\n",
      "floor division is (it return interger value)  0\n",
      "modulus (remaider) is  2\n",
      "power is  8\n"
     ]
    }
   ],
   "source": [
    "# arithmatic operators\n",
    "print('addition is ',2 + 3) # + : addition\n",
    "print('subtraction is ',2 - 3) # - : subtraction\n",
    "print('multiplication is ',2 * 3) # * : multiplication\n",
    "print('division is ',2 / 3) # / : division\n",
    "print('floor division is (it return interger value) ',2 // 3) # // : floor division\n",
    "print('modulus (remaider) is ',2 % 3) # % : modulus\n",
    "print('power is ',2 ** 3) # ** : exponent'addition is ',"
   ]
  },
  {
   "cell_type": "markdown",
   "metadata": {},
   "source": [
    "# 2. Assignment operators"
   ]
  },
  {
   "cell_type": "markdown",
   "metadata": {},
   "source": [
    "`=, +=, -=, *=, /=, //=, %=, **=`"
   ]
  },
  {
   "cell_type": "code",
   "execution_count": 3,
   "metadata": {},
   "outputs": [
    {
     "name": "stdout",
     "output_type": "stream",
     "text": [
      "a is  5\n",
      "a is  2\n",
      "a is  6\n",
      "a is  2.0\n",
      "a is  0.0\n",
      "a is  0.0\n",
      "a is  0.0\n"
     ]
    }
   ],
   "source": [
    "# assignment operators\n",
    "a = 2\n",
    "a += 3 # a = a + 3\n",
    "print('a is ',a)\n",
    "a -= 3 # a = a - 3\n",
    "print('a is ',a)\n",
    "a *= 3 # a = a * 3\n",
    "print('a is ',a)\n",
    "a /= 3 # a = a / 3\n",
    "print('a is ',a)\n",
    "a //= 3 # a = a // 3\n",
    "print('a is ',a)\n",
    "a %= 3 # a = a % 3\n",
    "print('a is ',a)\n",
    "a **= 3 # a = a ** 3\n",
    "print('a is ',a)"
   ]
  },
  {
   "cell_type": "markdown",
   "metadata": {},
   "source": [
    "# 3. Comparison operators\n",
    "`>, <, >=, <=, ==, !=`"
   ]
  },
  {
   "cell_type": "code",
   "execution_count": 4,
   "metadata": {},
   "outputs": [
    {
     "name": "stdout",
     "output_type": "stream",
     "text": [
      "2 is greater than 3 is  False\n",
      "2 is greater than or equal to 3 is  False\n",
      "2 is less than 3 is  True\n",
      "2 is less than or equal to 3 is  True\n",
      "2 is not equal to 3 is  True\n",
      "2 is equal to 3 is  False\n"
     ]
    }
   ],
   "source": [
    "# comparison operators\n",
    "print('2 is greater than 3 is ',2 > 3) # > : greater than\n",
    "print('2 is greater than or equal to 3 is ',2 >= 3) # >= : greater than or equal to\n",
    "print('2 is less than 3 is ',2 < 3) # < : less than\n",
    "print('2 is less than or equal to 3 is ',2 <= 3) # <= : less than or equal to\n",
    "print('2 is not equal to 3 is ',2 != 3) # != : not equal to\n",
    "print('2 is equal to 3 is ',2 == 3) # == : equal to\n"
   ]
  },
  {
   "cell_type": "markdown",
   "metadata": {},
   "source": [
    "# 4. Logical operators\n",
    "`and, or, not`\n",
    "- It returns true/False (boolean)"
   ]
  },
  {
   "cell_type": "code",
   "execution_count": null,
   "metadata": {},
   "outputs": [],
   "source": [
    "# Truth Table\n",
    "\n",
    "0  and  0  -- 0\n",
    "0  and  1  -- 0\n",
    "1  and  0  -- 0\n",
    "1  and  1  -- 1\n",
    "\n",
    "# Truth Table\n",
    "\n",
    "0  or  0  -- 0\n",
    "0  or  1  -- 1\n",
    "1  or  0  -- 1\n",
    "1  or  1  -- 1"
   ]
  },
  {
   "cell_type": "code",
   "execution_count": 8,
   "metadata": {},
   "outputs": [
    {
     "name": "stdout",
     "output_type": "stream",
     "text": [
      "True\n",
      "True\n",
      "False\n",
      "False\n",
      "True\n"
     ]
    }
   ],
   "source": [
    "# logical operators\n",
    "print(2==2 and 1==1) # and : both the condition is true\n",
    "print(2==2 or 1==1) # or : at least one of the condition is true\n",
    "print(not 1==1 )# not : condition is false\n",
    "print(2==3 and 1==1) # and : one  condition is false\n",
    "print(2==2 or 1==2 )# or : both the condition is true"
   ]
  },
  {
   "cell_type": "code",
   "execution_count": 17,
   "metadata": {},
   "outputs": [
    {
     "data": {
      "text/plain": [
       "True"
      ]
     },
     "execution_count": 17,
     "metadata": {},
     "output_type": "execute_result"
    }
   ],
   "source": [
    "True and False and not False or True or not False\n",
    "#     F               T                    T\n",
    "#               F\n",
    "#                            T\n",
    "#                                   T"
   ]
  },
  {
   "cell_type": "markdown",
   "metadata": {},
   "source": [
    "# 5. Identity operators\n",
    "`    is, is not`\n",
    "\n",
    ">>is =>  Returns True if both variables are the same object  \n",
    ">>is not => Returns True if both variables are not the same object "
   ]
  },
  {
   "cell_type": "code",
   "execution_count": 11,
   "metadata": {},
   "outputs": [
    {
     "name": "stdout",
     "output_type": "stream",
     "text": [
      "False\n",
      "True\n"
     ]
    }
   ],
   "source": [
    "# identity operators\n",
    "a=10\n",
    "b=20\n",
    "print(a is b) # is : check the identity of the two variables\n",
    "print(a is not b) # is not : check the identity of the two variables    \n"
   ]
  },
  {
   "cell_type": "markdown",
   "metadata": {},
   "source": [
    "# 6. Membership operators\n",
    "- not in  =>\tReturns True if a sequence with the specified value is not present in the object\n",
    "- in  =>\tReturns True if a sequence with the specified value is present in the object\n",
    " `in,not in`\n"
   ]
  },
  {
   "cell_type": "code",
   "execution_count": 12,
   "metadata": {},
   "outputs": [
    {
     "name": "stdout",
     "output_type": "stream",
     "text": [
      "True\n",
      "False\n"
     ]
    }
   ],
   "source": [
    "# membership operators\n",
    "a = [1,2,3,4,5]\n",
    "print(1 in a) # in : check if the element is present in the list\n",
    "print(1 not in a) # not in : check if the element is not present in the list\n"
   ]
  },
  {
   "cell_type": "markdown",
   "metadata": {},
   "source": [
    "# 7. Bitwise Operators\n",
    "- Bitwise operators are used to compare (binary) numbers:\n",
    "`&, |, ^, ~, <<, >>`"
   ]
  },
  {
   "cell_type": "code",
   "execution_count": 20,
   "metadata": {},
   "outputs": [],
   "source": [
    "#1024    512    256    128    64    32    16    8    4    2    1\n",
    "#                                              1    0    0    1\n",
    "#                             1     0     1    1    0    0    0 \n",
    "#                                              1    1    1    1"
   ]
  },
  {
   "cell_type": "markdown",
   "metadata": {},
   "source": [
    "- **bin()** is used to find binary \n",
    "- **ord()** is used to find ASCII of character "
   ]
  },
  {
   "cell_type": "code",
   "execution_count": 10,
   "metadata": {},
   "outputs": [
    {
     "name": "stdout",
     "output_type": "stream",
     "text": [
      "0b1010\n"
     ]
    },
    {
     "data": {
      "text/plain": [
       "53"
      ]
     },
     "execution_count": 10,
     "metadata": {},
     "output_type": "execute_result"
    }
   ],
   "source": [
    "print(bin(10))\n",
    "ord('5')"
   ]
  },
  {
   "cell_type": "code",
   "execution_count": 21,
   "metadata": {},
   "outputs": [],
   "source": [
    "# 1 byte  -  8 bits\n",
    "# 2 byte  -  16 bits\n",
    "# 4 byte  -  32 bits"
   ]
  },
  {
   "cell_type": "code",
   "execution_count": 22,
   "metadata": {},
   "outputs": [],
   "source": [
    "# 8 & 2   # 1000\n",
    "         # 0010\n",
    "         # 0000"
   ]
  },
  {
   "cell_type": "code",
   "execution_count": 23,
   "metadata": {},
   "outputs": [],
   "source": [
    "# 7 | 9  # 0111\n",
    "#        # 1001\n",
    "#        # 1111"
   ]
  },
  {
   "cell_type": "code",
   "execution_count": null,
   "metadata": {},
   "outputs": [],
   "source": [
    "# 8 << 2   # 000100000\n"
   ]
  },
  {
   "cell_type": "code",
   "execution_count": null,
   "metadata": {},
   "outputs": [],
   "source": [
    "# # right shift\n",
    "\n",
    "# 7 >> 2    # 00000001"
   ]
  },
  {
   "cell_type": "code",
   "execution_count": 14,
   "metadata": {},
   "outputs": [
    {
     "name": "stdout",
     "output_type": "stream",
     "text": [
      "0\n",
      "30\n",
      "30\n",
      "-11\n",
      "40\n",
      "2\n",
      "0\n",
      "0\n"
     ]
    }
   ],
   "source": [
    "# bitwise operators\n",
    "a = 10    # binary representation of 10 is     1010\n",
    "b = 20    # binary representation of 20 is 10100000\n",
    "print(a & b) # & : bitwise and\n",
    "print(a | b) # | : bitwise or\n",
    "print(a ^ b) # ^ : bitwise xor\n",
    "print(~a) # ~ : bitwise not\n",
    "print(a << 2) # << : left shift\n",
    "print(a >> 2) # >> : right shift\n",
    "print(a >> 2 & 1) # >> : right shift and take the last bit\n",
    "print(a >> 2 & 1) # >> : right shift and take the last bit\n"
   ]
  },
  {
   "cell_type": "markdown",
   "metadata": {},
   "source": [
    "---"
   ]
  }
 ],
 "metadata": {
  "kernelspec": {
   "display_name": "Python 3.10.4 64-bit",
   "language": "python",
   "name": "python3"
  },
  "language_info": {
   "codemirror_mode": {
    "name": "ipython",
    "version": 3
   },
   "file_extension": ".py",
   "mimetype": "text/x-python",
   "name": "python",
   "nbconvert_exporter": "python",
   "pygments_lexer": "ipython3",
   "version": "3.10.4"
  },
  "orig_nbformat": 4,
  "vscode": {
   "interpreter": {
    "hash": "369f2c481f4da34e4445cda3fffd2e751bd1c4d706f27375911949ba6bb62e1c"
   }
  }
 },
 "nbformat": 4,
 "nbformat_minor": 2
}
