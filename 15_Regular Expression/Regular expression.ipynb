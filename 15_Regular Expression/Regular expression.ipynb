{
 "cells": [
  {
   "cell_type": "markdown",
   "metadata": {},
   "source": [
    "# Regular expression\n",
    "\n",
    "regex"
   ]
  },
  {
   "cell_type": "markdown",
   "metadata": {},
   "source": [
    "- regular expression are used to find patterns in text data "
   ]
  },
  {
   "cell_type": "markdown",
   "metadata": {},
   "source": [
    "# re"
   ]
  },
  {
   "cell_type": "code",
   "execution_count": 1,
   "metadata": {},
   "outputs": [
    {
     "name": "stdout",
     "output_type": "stream",
     "text": [
      "Match found\n"
     ]
    }
   ],
   "source": [
    "import re  # import regular expression module\n",
    "p='Pak'\n",
    "if re.match(p,'Pakistan is a great country'):\n",
    "    print('Match found')"
   ]
  },
  {
   "cell_type": "markdown",
   "metadata": {},
   "source": [
    "It is case senstive."
   ]
  },
  {
   "cell_type": "code",
   "execution_count": 2,
   "metadata": {},
   "outputs": [
    {
     "name": "stdout",
     "output_type": "stream",
     "text": [
      "Not Match\n"
     ]
    }
   ],
   "source": [
    "import re\n",
    "\n",
    "p = \"PAK\"\n",
    "\n",
    "if re.match(p, \"pakistan is a great country\"):\n",
    "    print(\"Match\")\n",
    "else:\n",
    "    print(\"Not Match\")"
   ]
  },
  {
   "cell_type": "code",
   "execution_count": 3,
   "metadata": {},
   "outputs": [
    {
     "name": "stdout",
     "output_type": "stream",
     "text": [
      "Not Match\n"
     ]
    }
   ],
   "source": [
    "import re\n",
    "\n",
    "p = \"Pakistan\"\n",
    "\n",
    "if re.match(p, \"Best is Pakistan\"):\n",
    "    print(\"Match\")\n",
    "else:\n",
    "    print(\"Not Match\")"
   ]
  },
  {
   "cell_type": "code",
   "execution_count": 4,
   "metadata": {},
   "outputs": [
    {
     "name": "stdout",
     "output_type": "stream",
     "text": [
      "Help on function match in module re:\n",
      "\n",
      "match(pattern, string, flags=0)\n",
      "    Try to apply the pattern at the start of the string, returning\n",
      "    a Match object, or None if no match was found.\n",
      "\n"
     ]
    }
   ],
   "source": [
    "help(re.match)"
   ]
  },
  {
   "cell_type": "markdown",
   "metadata": {},
   "source": [
    "## search"
   ]
  },
  {
   "cell_type": "code",
   "execution_count": 5,
   "metadata": {},
   "outputs": [
    {
     "name": "stdout",
     "output_type": "stream",
     "text": [
      "No match\n",
      "Search found\n"
     ]
    }
   ],
   "source": [
    "import re\n",
    "\n",
    "pattern = 'Pakistan'\n",
    "\n",
    "if re.match(pattern, 'The Pakistan is the best.'):\n",
    "    print(\"Match\")\n",
    "else:\n",
    "    print(\"No match\")\n",
    "    \n",
    "if re.search(pattern, 'The Pakistan is the best'): \n",
    "    print(\"Search found\")\n",
    "else:\n",
    "    print(\"Not found\")"
   ]
  },
  {
   "cell_type": "code",
   "execution_count": 6,
   "metadata": {},
   "outputs": [
    {
     "name": "stdout",
     "output_type": "stream",
     "text": [
      "Search found\n"
     ]
    }
   ],
   "source": [
    "if re.search(pattern, 'The Pakistan is the best'):\n",
    "    print(\"Search found\")\n",
    "else:\n",
    "    print(\"Not found\")"
   ]
  },
  {
   "cell_type": "markdown",
   "metadata": {},
   "source": [
    "## findall"
   ]
  },
  {
   "cell_type": "code",
   "execution_count": 7,
   "metadata": {},
   "outputs": [
    {
     "name": "stdout",
     "output_type": "stream",
     "text": [
      "['Pakistan']\n"
     ]
    }
   ],
   "source": [
    "print(re.findall(pattern, 'The Pakistan is the best'))"
   ]
  },
  {
   "cell_type": "code",
   "execution_count": 8,
   "metadata": {},
   "outputs": [
    {
     "name": "stdout",
     "output_type": "stream",
     "text": [
      "['Pakistan', 'Pakistan']\n"
     ]
    }
   ],
   "source": [
    "print(re.findall(pattern, 'The Pakistan is the best. Pakistan is the largest democracy'))"
   ]
  },
  {
   "cell_type": "markdown",
   "metadata": {},
   "source": [
    "## group"
   ]
  },
  {
   "cell_type": "code",
   "execution_count": 9,
   "metadata": {},
   "outputs": [
    {
     "name": "stdout",
     "output_type": "stream",
     "text": [
      "<re.Match object; span=(4, 12), match='Pakistan'>\n",
      "Pakistan\n"
     ]
    }
   ],
   "source": [
    "p = \"Pakistan\"\n",
    "\n",
    "match = re.search(p, \"The Pakistan is a state. Pakistan\")\n",
    "\n",
    "print(match)\n",
    "\n",
    "if match:\n",
    "    print(match.group())"
   ]
  },
  {
   "cell_type": "code",
   "execution_count": 10,
   "metadata": {},
   "outputs": [
    {
     "name": "stdout",
     "output_type": "stream",
     "text": [
      "<class 're.Match'>\n"
     ]
    }
   ],
   "source": [
    "print(type(match))"
   ]
  },
  {
   "cell_type": "markdown",
   "metadata": {},
   "source": [
    "### start"
   ]
  },
  {
   "cell_type": "code",
   "execution_count": 11,
   "metadata": {},
   "outputs": [
    {
     "name": "stdout",
     "output_type": "stream",
     "text": [
      "4\n"
     ]
    }
   ],
   "source": [
    "print(match.start())"
   ]
  },
  {
   "cell_type": "markdown",
   "metadata": {},
   "source": [
    "### end"
   ]
  },
  {
   "cell_type": "code",
   "execution_count": 12,
   "metadata": {},
   "outputs": [
    {
     "name": "stdout",
     "output_type": "stream",
     "text": [
      "12\n"
     ]
    }
   ],
   "source": [
    "print(match.end())"
   ]
  },
  {
   "cell_type": "markdown",
   "metadata": {},
   "source": [
    "### span"
   ]
  },
  {
   "cell_type": "code",
   "execution_count": 13,
   "metadata": {},
   "outputs": [
    {
     "name": "stdout",
     "output_type": "stream",
     "text": [
      "(4, 12)\n"
     ]
    }
   ],
   "source": [
    "print(match.span())"
   ]
  },
  {
   "cell_type": "markdown",
   "metadata": {},
   "source": [
    "### sub\n",
    "\n",
    "for substitution"
   ]
  },
  {
   "cell_type": "code",
   "execution_count": 14,
   "metadata": {},
   "outputs": [
    {
     "name": "stdout",
     "output_type": "stream",
     "text": [
      "His name is Babar, Hello Babar\n"
     ]
    }
   ],
   "source": [
    "import re\n",
    "\n",
    "s = \"His name is Virat, Hello Virat\"\n",
    "\n",
    "p = 'Virat'\n",
    "\n",
    "\n",
    "newstring = re.sub(p, 'Babar', s)\n",
    "\n",
    "print(newstring)"
   ]
  },
  {
   "cell_type": "code",
   "execution_count": 15,
   "metadata": {},
   "outputs": [
    {
     "name": "stdout",
     "output_type": "stream",
     "text": [
      "His name is Virat, Hello Virat\n"
     ]
    }
   ],
   "source": [
    "import re\n",
    "\n",
    "s = \"His name is Virat, Hello Virat\"\n",
    "\n",
    "p = 'virat'\n",
    "\n",
    "\n",
    "newstring = re.sub(p, \"babar\", s)\n",
    "\n",
    "print(newstring)"
   ]
  },
  {
   "cell_type": "markdown",
   "metadata": {},
   "source": [
    "# meta characters\n",
    "\n",
    "1. dot"
   ]
  },
  {
   "cell_type": "code",
   "execution_count": 16,
   "metadata": {},
   "outputs": [
    {
     "name": "stdout",
     "output_type": "stream",
     "text": [
      "1\n",
      "2\n"
     ]
    }
   ],
   "source": [
    "import re\n",
    "\n",
    "p = 'gr.y'   # . is a wild card character which matches any character except new line character\n",
    "\n",
    "if re.match(p, \"grey\"):\n",
    "    print(1)\n",
    "\n",
    "if re.match(p, \"gray\"):\n",
    "    print(2)\n",
    "\n",
    "if re.match(p, \"blue\"):\n",
    "    print(3)"
   ]
  },
  {
   "cell_type": "code",
   "execution_count": 17,
   "metadata": {},
   "outputs": [],
   "source": [
    "if re.match(p, \"grTay\"):\n",
    "    print(2)"
   ]
  },
  {
   "cell_type": "code",
   "execution_count": 18,
   "metadata": {},
   "outputs": [
    {
     "name": "stdout",
     "output_type": "stream",
     "text": [
      "2\n"
     ]
    }
   ],
   "source": [
    "p = \"g..y\"\n",
    "\n",
    "if re.match(p, \"gxxy\"):\n",
    "    print(2)"
   ]
  },
  {
   "cell_type": "code",
   "execution_count": 19,
   "metadata": {},
   "outputs": [
    {
     "name": "stdout",
     "output_type": "stream",
     "text": [
      "2\n"
     ]
    }
   ],
   "source": [
    "if re.match(p, \"greytt\"):\n",
    "    print(2)"
   ]
  },
  {
   "cell_type": "markdown",
   "metadata": {},
   "source": [
    "### 2. start (^)"
   ]
  },
  {
   "cell_type": "code",
   "execution_count": 20,
   "metadata": {},
   "outputs": [
    {
     "name": "stdout",
     "output_type": "stream",
     "text": [
      "2\n",
      "3\n"
     ]
    }
   ],
   "source": [
    "p = \"^gr.y\"   # ^ is a special character which matches the beginning of the string\n",
    "\n",
    "if re.match(p, \"gluy\"):\n",
    "    print(1)\n",
    "if re.match(p, \"gruy\"):\n",
    "    print(2)\n",
    "if re.match(p, \"grayt\"):\n",
    "    print(3)"
   ]
  },
  {
   "cell_type": "markdown",
   "metadata": {},
   "source": [
    "### 3. end ($)"
   ]
  },
  {
   "cell_type": "code",
   "execution_count": 21,
   "metadata": {},
   "outputs": [
    {
     "name": "stdout",
     "output_type": "stream",
     "text": [
      "1\n",
      "2\n"
     ]
    }
   ],
   "source": [
    "p = \"^gr.y$\"\n",
    "\n",
    "if re.match(p, \"gray\"):\n",
    "    print(1)\n",
    "if re.match(p, \"grey\"):\n",
    "    print(2)\n",
    "if re.match(p, \"grayt\"):\n",
    "    print(3)\n",
    "if re.match(p, \"gluy\"):\n",
    "    print(4)"
   ]
  },
  {
   "cell_type": "code",
   "execution_count": 22,
   "metadata": {},
   "outputs": [
    {
     "name": "stdout",
     "output_type": "stream",
     "text": [
      "1\n",
      "2\n",
      "4\n"
     ]
    }
   ],
   "source": [
    "p = \"...y$\"\n",
    "\n",
    "if re.match(p, \"gray\"):\n",
    "    print(1)\n",
    "if re.match(p, \"grey\"):\n",
    "    print(2)\n",
    "if re.match(p, \"grayt\"):\n",
    "    print(3)\n",
    "if re.match(p, \"gluy\"):\n",
    "    print(4)"
   ]
  },
  {
   "cell_type": "code",
   "execution_count": 23,
   "metadata": {},
   "outputs": [],
   "source": [
    "p = \"uy$\"\n",
    "\n",
    "if re.match(p, \"gray\"):\n",
    "    print(1)\n",
    "if re.match(p, \"grey\"):\n",
    "    print(2)\n",
    "if re.match(p, \"grayt\"):\n",
    "    print(3)\n",
    "if re.match(p, \"gluy\"):\n",
    "    print(4)"
   ]
  },
  {
   "cell_type": "markdown",
   "metadata": {},
   "source": [
    "# character classes"
   ]
  },
  {
   "cell_type": "code",
   "execution_count": 32,
   "metadata": {},
   "outputs": [
    {
     "name": "stdout",
     "output_type": "stream",
     "text": [
      "1\n",
      "3\n"
     ]
    }
   ],
   "source": [
    "import re\n",
    "\n",
    "p = \"[aeiou]\"\n",
    "\n",
    "if re.search(p, \"grey\"):     # search for any vowel in the string \n",
    "    print(1)\n",
    "    \n",
    "if re.search(p, \"qwrtyp\"):\n",
    "    print(2)\n",
    "\n",
    "if re.search(p, \"rythums\"):\n",
    "    print(3)\n"
   ]
  },
  {
   "cell_type": "code",
   "execution_count": 25,
   "metadata": {},
   "outputs": [
    {
     "name": "stdout",
     "output_type": "stream",
     "text": [
      "1\n",
      "2\n"
     ]
    }
   ],
   "source": [
    "import re\n",
    "\n",
    "p = \"[a-k]\"\n",
    "\n",
    "if re.search(p, \"grey\"):\n",
    "    print(1)\n",
    "\n",
    "if re.search(p, \"qwrtyiop\"):\n",
    "    print(2)\n",
    "\n",
    "if re.search(p, \"rytms\"):\n",
    "    print(3)\n"
   ]
  },
  {
   "cell_type": "code",
   "execution_count": 26,
   "metadata": {},
   "outputs": [
    {
     "name": "stdout",
     "output_type": "stream",
     "text": [
      "1\n",
      "2\n",
      "3\n"
     ]
    }
   ],
   "source": [
    "import re\n",
    "\n",
    "p = \"[A-Za-z]\"\n",
    "\n",
    "if re.search(p, \"grey\"):\n",
    "    print(1)\n",
    "    \n",
    "if re.search(p, \"qwrtyp\"):\n",
    "    print(2)\n",
    "\n",
    "if re.search(p, \"RYTHUM\"):\n",
    "    print(3)\n"
   ]
  },
  {
   "cell_type": "code",
   "execution_count": 27,
   "metadata": {},
   "outputs": [],
   "source": [
    "if re.search(p, \"123\"):\n",
    "    print(3)\n"
   ]
  },
  {
   "cell_type": "code",
   "execution_count": 28,
   "metadata": {},
   "outputs": [
    {
     "name": "stdout",
     "output_type": "stream",
     "text": [
      "1\n",
      "3\n"
     ]
    }
   ],
   "source": [
    "import re\n",
    "\n",
    "p = \"[0-9]\"\n",
    "\n",
    "if re.search(p, \"gr4ey\"):\n",
    "    print(1)\n",
    "    \n",
    "if re.search(p, \"qwrtyp\"):\n",
    "    print(2)\n",
    "\n",
    "if re.search(p, \"RYTH12UM\"):\n",
    "    print(3)\n"
   ]
  },
  {
   "cell_type": "code",
   "execution_count": 29,
   "metadata": {},
   "outputs": [
    {
     "name": "stdout",
     "output_type": "stream",
     "text": [
      "2\n"
     ]
    }
   ],
   "source": [
    "import re\n",
    "\n",
    "p = \"[A-Z][A-Z][0-9]\"\n",
    "\n",
    "if re.search(p, \"gr8\"):\n",
    "    print(1)\n",
    "    \n",
    "if re.search(p, \"QW2rtyp\"):\n",
    "    print(2)\n",
    "\n",
    "if re.search(p, \"RYTHUMaa5\"):\n",
    "    print(3)\n"
   ]
  },
  {
   "cell_type": "code",
   "execution_count": 44,
   "metadata": {},
   "outputs": [
    {
     "name": "stdout",
     "output_type": "stream",
     "text": [
      "2\n"
     ]
    }
   ],
   "source": [
    "import re\n",
    "\n",
    "p = \"^[A-Z][A-Z][0-9]\"\n",
    "\n",
    "if re.search(p, \"ftGR8\"):\n",
    "    print(1)\n",
    "\n",
    "if re.search(p, \"QW2rty\"):\n",
    "    print(2)\n",
    "\n",
    "if re.search(p, \"RYTHUM5\"):\n",
    "    print(3)\n",
    "    \n"
   ]
  },
  {
   "cell_type": "markdown",
   "metadata": {},
   "source": [
    "---"
   ]
  }
 ],
 "metadata": {
  "kernelspec": {
   "display_name": "Python 3.10.4 64-bit",
   "language": "python",
   "name": "python3"
  },
  "language_info": {
   "codemirror_mode": {
    "name": "ipython",
    "version": 3
   },
   "file_extension": ".py",
   "mimetype": "text/x-python",
   "name": "python",
   "nbconvert_exporter": "python",
   "pygments_lexer": "ipython3",
   "version": "3.10.4"
  },
  "vscode": {
   "interpreter": {
    "hash": "369f2c481f4da34e4445cda3fffd2e751bd1c4d706f27375911949ba6bb62e1c"
   }
  }
 },
 "nbformat": 4,
 "nbformat_minor": 4
}
