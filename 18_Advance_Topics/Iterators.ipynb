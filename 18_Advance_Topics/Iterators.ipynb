{
 "cells": [
  {
   "attachments": {},
   "cell_type": "markdown",
   "metadata": {},
   "source": [
    "## **What is Iteration ?**\n",
    "Iteration is a general term for taking each item of something, one after another. Any time you see a loop, explicit or implicit, to go over a group of items, that is Iteration."
   ]
  },
  {
   "cell_type": "code",
   "execution_count": null,
   "metadata": {},
   "outputs": [],
   "source": [
    "# example\n",
    "for i in [1,2,3]:\n",
    "    print(i)"
   ]
  },
  {
   "attachments": {},
   "cell_type": "markdown",
   "metadata": {},
   "source": [
    "## **What is Iterator**\n",
    "An Iterator is an object that allow the programmer to traverse through a sequense of data without having to store the entire data in the memory."
   ]
  },
  {
   "cell_type": "code",
   "execution_count": null,
   "metadata": {},
   "outputs": [],
   "source": [
    "# example\n",
    "for i in (1,2,3):    # i is iterator object here \n",
    "    print(i*2)\n",
    "\n",
    "import sys\n",
    "x= [1,2,3,4,5,6,7,8,9,10]\n",
    "print(sys.getsizeof(x)) \n",
    "\n",
    "x=range(1,11)\n",
    "print(sys.getsizeof(x)) \n",
    "\n",
    "# why iterators are important: \n",
    "# 1. memory efficient\n",
    "# 2. lazy evaluation"
   ]
  },
  {
   "attachments": {},
   "cell_type": "markdown",
   "metadata": {},
   "source": [
    "## **Iterable**\n",
    "Iterable is an object which one can iterate over \\\n",
    "It generate an iterator when passed to `iter()` method"
   ]
  },
  {
   "cell_type": "code",
   "execution_count": null,
   "metadata": {},
   "outputs": [],
   "source": [
    "L=[1,2,3,4,5,6,7,8,9,10]   # L is list object here called iterable\n",
    "y=iter(L)                  # y is iterator object here\n",
    "type(y) \n",
    "print(sys.getsizeof(y))"
   ]
  },
  {
   "cell_type": "code",
   "execution_count": null,
   "metadata": {},
   "outputs": [],
   "source": [
    "# every iterator is iterable but not every iterable is iterator\n",
    "\n",
    "# Trick:\n",
    "# every iterable has an iter method\n",
    "# every iterator has a next method as well as an iter method"
   ]
  },
  {
   "cell_type": "code",
   "execution_count": null,
   "metadata": {},
   "outputs": [],
   "source": [
    "k=10\n",
    "dir(k)   # no iter method "
   ]
  },
  {
   "cell_type": "code",
   "execution_count": null,
   "metadata": {},
   "outputs": [],
   "source": [
    "s={1,2,3,4,5,6,7,8,9,10}\n",
    "dir(s)  \n",
    "\n",
    "# to check if s is iterable or not\n",
    "# make it iterator \n",
    "iter(s)   # no error so s is iterable "
   ]
  }
 ],
 "metadata": {
  "kernelspec": {
   "display_name": "Python 3",
   "language": "python",
   "name": "python3"
  },
  "language_info": {
   "name": "python",
   "version": "3.10.4"
  },
  "orig_nbformat": 4
 },
 "nbformat": 4,
 "nbformat_minor": 2
}
