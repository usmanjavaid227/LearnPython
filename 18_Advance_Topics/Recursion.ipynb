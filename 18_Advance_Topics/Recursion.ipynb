{
 "cells": [
  {
   "attachments": {},
   "cell_type": "markdown",
   "metadata": {},
   "source": [
    "# **Recursion**"
   ]
  },
  {
   "attachments": {},
   "cell_type": "markdown",
   "metadata": {},
   "source": [
    "> Recursion is a method of solving problems where the solution depends on solutions to smaller instances of the same problem. "
   ]
  },
  {
   "cell_type": "code",
   "execution_count": null,
   "metadata": {},
   "outputs": [],
   "source": [
    "# function call itself is called recursion\n",
    "# recursion is a process of repeating items in a self-similar way"
   ]
  },
  {
   "cell_type": "code",
   "execution_count": 4,
   "metadata": {},
   "outputs": [
    {
     "name": "stdout",
     "output_type": "stream",
     "text": [
      "5\n",
      "4\n",
      "3\n",
      "2\n",
      "1\n"
     ]
    }
   ],
   "source": [
    "# example of recursion\n",
    "def countdown(i):\n",
    "    print(i)\n",
    "    if i <= 1: # base case\n",
    "        return\n",
    "    else:\n",
    "        countdown(i-1) # recursive case\n",
    "\n",
    "countdown(5)\n"
   ]
  },
  {
   "cell_type": "code",
   "execution_count": 5,
   "metadata": {},
   "outputs": [
    {
     "name": "stdout",
     "output_type": "stream",
     "text": [
      "120\n"
     ]
    }
   ],
   "source": [
    "# example of recursion\n",
    "def factorial(x):\n",
    "    if x == 1:\n",
    "        return 1\n",
    "    else:\n",
    "        return x * factorial(x-1)\n",
    "    \n",
    "print(factorial(5))"
   ]
  },
  {
   "cell_type": "code",
   "execution_count": 6,
   "metadata": {},
   "outputs": [
    {
     "name": "stdout",
     "output_type": "stream",
     "text": [
      "True\n"
     ]
    }
   ],
   "source": [
    "# palindrome\n",
    "def palindrome(s):\n",
    "    if len(s) <= 1:\n",
    "        return True\n",
    "    else:\n",
    "        return s[0] == s[-1] and palindrome(s[1:-1])\n",
    "    \n",
    "print(palindrome('helleh'))"
   ]
  },
  {
   "cell_type": "code",
   "execution_count": 18,
   "metadata": {},
   "outputs": [
    {
     "name": "stdout",
     "output_type": "stream",
     "text": [
      "8\n"
     ]
    }
   ],
   "source": [
    "# rabbit problem: 1 pair of rabbits in the first month, 1 pair of rabbits in the second month, 1 pair of rabbits in the third month, 2 pairs of rabbits in the fourth month, 3 pairs of rabbits in the fifth month, 5 pairs of rabbits in the sixth month, 8 pairs of rabbits in the seventh month, 13 pairs of rabbits in the eighth month, 21 pairs of rabbits in the ninth month\n",
    "# fibonacci sequence: 1,1,2,3,5,8,13,....\n",
    "def rabbits(n):\n",
    "    if n == 1 or n == 2:\n",
    "        return 1\n",
    "    else:\n",
    "        return rabbits(n-1) + rabbits(n-2)\n",
    "    \n",
    "print(rabbits(5))\n",
    "\n",
    "#             rabbits(5) \n",
    "#            /         \\\n",
    "#        rabbits(4) +   rabbits(3)\n",
    "#          /       \\        /        \\\n",
    "# rabbits(3) + rabbits(2) + rabbits(2) + rabbits(1)\n",
    "#      /    \\   \n",
    "# rabbits(2) + rabbits(1)\n"
   ]
  },
  {
   "cell_type": "code",
   "execution_count": null,
   "metadata": {},
   "outputs": [],
   "source": [
    "# in the above example, if the no. of months increases, the no. of function calls increases exponentially, which is not efficient and will cause a stack overflow error if the no. of months is too large (e.g. 1000) \n",
    "# to solve this problem, we can use memoization to store the results of the function calls in a dictionary and use the stored results if the function is called again with the same argument (e.g. rabbits(5) is called again)"
   ]
  },
  {
   "cell_type": "code",
   "execution_count": 26,
   "metadata": {},
   "outputs": [
    {
     "name": "stdout",
     "output_type": "stream",
     "text": [
      "34\n"
     ]
    }
   ],
   "source": [
    "# dynamic programming\n",
    "# dynamic programming is a method for solving a complex problem by breaking it down into a collection of simpler subproblems, solving each of those subproblems just once, and storing their solutions using a memory-based data structure (array, map, etc.)\n",
    "def rabbits(n, memo):\n",
    "    if memo[n] is not None:\n",
    "        return memo[n]\n",
    "    if n == 1 or n == 2:\n",
    "        result = 1\n",
    "    else:\n",
    "        result = rabbits(n-1, memo) + rabbits(n-2, memo)\n",
    "    memo[n] = result\n",
    "    return result\n",
    "\n",
    "memo = [None] * 100\n",
    "print(rabbits(9, memo))\n"
   ]
  },
  {
   "attachments": {},
   "cell_type": "markdown",
   "metadata": {},
   "source": [
    "---"
   ]
  }
 ],
 "metadata": {
  "kernelspec": {
   "display_name": "Python 3",
   "language": "python",
   "name": "python3"
  },
  "language_info": {
   "codemirror_mode": {
    "name": "ipython",
    "version": 3
   },
   "file_extension": ".py",
   "mimetype": "text/x-python",
   "name": "python",
   "nbconvert_exporter": "python",
   "pygments_lexer": "ipython3",
   "version": "3.10.4"
  },
  "orig_nbformat": 4
 },
 "nbformat": 4,
 "nbformat_minor": 2
}
