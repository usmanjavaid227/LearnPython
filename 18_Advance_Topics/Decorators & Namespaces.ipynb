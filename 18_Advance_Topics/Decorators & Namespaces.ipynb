{
 "cells": [
  {
   "attachments": {},
   "cell_type": "markdown",
   "metadata": {},
   "source": [
    "# **Namespaces**"
   ]
  },
  {
   "attachments": {},
   "cell_type": "markdown",
   "metadata": {},
   "source": [
    "- namespaces are used to avoid name conflicts in large projects \n",
    "> A namespaces is a space that holds name(identifiers). Programmatically speaking, namespaces are dictionary of identifiers(keys) and their objects(values)\n",
    "  \n",
    "### **There are 4 types of namespaces**\n",
    "- - Builtin Namespaces\n",
    "- - Global Namespaces\n",
    "- - Enclosing Namespaces\n",
    "- - Local Namespaces"
   ]
  },
  {
   "attachments": {},
   "cell_type": "markdown",
   "metadata": {},
   "source": [
    "### **Scope and LEGB Rule**"
   ]
  },
  {
   "attachments": {},
   "cell_type": "markdown",
   "metadata": {},
   "source": [
    "A scope is a textual of a Python Program where a namespace is directly accessible.\n",
    "\n",
    "The interpreter searches for a name from the inside out, looking in the local, enclosing, global, and finally the built-in scope.If theinterpreter does not find the name in any these locations, then raises a NameError exception."
   ]
  },
  {
   "cell_type": "code",
   "execution_count": 1,
   "metadata": {},
   "outputs": [
    {
     "name": "stdout",
     "output_type": "stream",
     "text": [
      "300\n"
     ]
    }
   ],
   "source": [
    "# local vs global variables\n",
    "a=10 # global variable: can be accessed anywhere in the program\n",
    "def myfunc():\n",
    "    x = 300 # local variable: can be accessed only inside the function\n",
    "    print(x)\n",
    "\n",
    "myfunc()"
   ]
  },
  {
   "cell_type": "code",
   "execution_count": 3,
   "metadata": {},
   "outputs": [
    {
     "name": "stdout",
     "output_type": "stream",
     "text": [
      "300\n"
     ]
    }
   ],
   "source": [
    "# local vs global variables with same name\n",
    "a=10 \n",
    "def myfunc():\n",
    "    a = 300 \n",
    "    print(a)\n",
    "\n",
    "myfunc()"
   ]
  },
  {
   "cell_type": "code",
   "execution_count": 4,
   "metadata": {},
   "outputs": [
    {
     "name": "stdout",
     "output_type": "stream",
     "text": [
      "10\n"
     ]
    }
   ],
   "source": [
    "# local does not have but global has  => LEGB rule (Local, Enclosing, Global, Built-in)\n",
    "a=10\n",
    "def myfunc():\n",
    "    print(a)\n",
    "\n",
    "myfunc()"
   ]
  },
  {
   "cell_type": "code",
   "execution_count": 12,
   "metadata": {},
   "outputs": [
    {
     "name": "stdout",
     "output_type": "stream",
     "text": [
      "11\n",
      "11\n"
     ]
    }
   ],
   "source": [
    "# edit global variable\n",
    "a=10\n",
    "def myfunc():\n",
    "    global a # global keyword\n",
    "    a += 1 \n",
    "    print(a)\n",
    "\n",
    "myfunc()\n",
    "print(a)"
   ]
  },
  {
   "cell_type": "code",
   "execution_count": 20,
   "metadata": {},
   "outputs": [
    {
     "name": "stdout",
     "output_type": "stream",
     "text": [
      "1\n",
      "1\n"
     ]
    }
   ],
   "source": [
    "# global created inside local\n",
    "def myfunc():\n",
    "    global c \n",
    "    c = 1 \n",
    "    print(c)\n",
    "\n",
    "myfunc()\n",
    "print(c)"
   ]
  },
  {
   "cell_type": "code",
   "execution_count": 22,
   "metadata": {},
   "outputs": [
    {
     "name": "stdout",
     "output_type": "stream",
     "text": [
      "6\n"
     ]
    }
   ],
   "source": [
    "# function parameter is local\n",
    "a=5\n",
    "def myfunc(x):\n",
    "    x += 1 \n",
    "    print(x)\n",
    "\n",
    "myfunc(a)\n",
    "# print(x) `        # error because x is not defined in the global scope (only in the local scope) "
   ]
  },
  {
   "attachments": {},
   "cell_type": "markdown",
   "metadata": {},
   "source": [
    "- Built-in Scope"
   ]
  },
  {
   "cell_type": "code",
   "execution_count": 29,
   "metadata": {},
   "outputs": [
    {
     "name": "stdout",
     "output_type": "stream",
     "text": [
      "['ArithmeticError', 'AssertionError', 'AttributeError', 'BaseException', 'BlockingIOError', 'BrokenPipeError', 'BufferError', 'BytesWarning', 'ChildProcessError', 'ConnectionAbortedError', 'ConnectionError', 'ConnectionRefusedError', 'ConnectionResetError', 'DeprecationWarning', 'EOFError', 'Ellipsis', 'EncodingWarning', 'EnvironmentError', 'Exception', 'False', 'FileExistsError', 'FileNotFoundError', 'FloatingPointError', 'FutureWarning', 'GeneratorExit', 'IOError', 'ImportError', 'ImportWarning', 'IndentationError', 'IndexError', 'InterruptedError', 'IsADirectoryError', 'KeyError', 'KeyboardInterrupt', 'LookupError', 'MemoryError', 'ModuleNotFoundError', 'NameError', 'None', 'NotADirectoryError', 'NotImplemented', 'NotImplementedError', 'OSError', 'OverflowError', 'PendingDeprecationWarning', 'PermissionError', 'ProcessLookupError', 'RecursionError', 'ReferenceError', 'ResourceWarning', 'RuntimeError', 'RuntimeWarning', 'StopAsyncIteration', 'StopIteration', 'SyntaxError', 'SyntaxWarning', 'SystemError', 'SystemExit', 'TabError', 'TimeoutError', 'True', 'TypeError', 'UnboundLocalError', 'UnicodeDecodeError', 'UnicodeEncodeError', 'UnicodeError', 'UnicodeTranslateError', 'UnicodeWarning', 'UserWarning', 'ValueError', 'Warning', 'WindowsError', 'ZeroDivisionError', '__IPYTHON__', '__build_class__', '__debug__', '__doc__', '__import__', '__loader__', '__name__', '__package__', '__spec__', 'abs', 'aiter', 'all', 'anext', 'any', 'ascii', 'bin', 'bool', 'breakpoint', 'bytearray', 'bytes', 'callable', 'chr', 'classmethod', 'compile', 'complex', 'copyright', 'credits', 'delattr', 'dict', 'dir', 'display', 'divmod', 'enumerate', 'eval', 'exec', 'execfile', 'filter', 'float', 'format', 'frozenset', 'get_ipython', 'getattr', 'globals', 'hasattr', 'hash', 'help', 'hex', 'id', 'input', 'int', 'isinstance', 'issubclass', 'iter', 'len', 'license', 'list', 'locals', 'map', 'max', 'memoryview', 'min', 'next', 'object', 'oct', 'open', 'ord', 'pow', 'print', 'property', 'range', 'repr', 'reversed', 'round', 'runfile', 'set', 'setattr', 'slice', 'sorted', 'staticmethod', 'str', 'sum', 'super', 'tuple', 'type', 'vars', 'zip']\n",
      "5\n"
     ]
    }
   ],
   "source": [
    "# built-in scope\n",
    "import builtins\n",
    "print(dir(builtins))\n",
    "print(len(\"hello\")) # len is a built-in function"
   ]
  },
  {
   "cell_type": "code",
   "execution_count": 31,
   "metadata": {},
   "outputs": [
    {
     "name": "stdout",
     "output_type": "stream",
     "text": [
      "3\n"
     ]
    },
    {
     "data": {
      "text/plain": [
       "10"
      ]
     },
     "execution_count": 31,
     "metadata": {},
     "output_type": "execute_result"
    }
   ],
   "source": [
    "# renaming built-ins\n",
    "L=[1,2,3]\n",
    "print(len(L))\n",
    "\n",
    "def len(x): # rename len to len (not recommended) \n",
    "    return 10\n",
    "len(L)"
   ]
  },
  {
   "attachments": {},
   "cell_type": "markdown",
   "metadata": {},
   "source": [
    "- Enclosing scope"
   ]
  },
  {
   "cell_type": "code",
   "execution_count": 34,
   "metadata": {},
   "outputs": [
    {
     "name": "stdout",
     "output_type": "stream",
     "text": [
      "inner\n",
      "20\n",
      "outer\n"
     ]
    }
   ],
   "source": [
    "# enclosing scope : inside nested functions\n",
    "def outer():    # outer is the enclosing function/nonlocal function\n",
    "    x = 10\n",
    "    def inner():    # inner is the local function\n",
    "        x=20\n",
    "        print('inner')\n",
    "        print(x)\n",
    "    inner() \n",
    "    print('outer')\n",
    "x=30\n",
    "outer()\n",
    "# legb rule: local, enclosing, global, built-in \n",
    "# local: x=20\n",
    "# enclosing: x=10\n",
    "# global: x=30"
   ]
  },
  {
   "cell_type": "code",
   "execution_count": 37,
   "metadata": {},
   "outputs": [
    {
     "name": "stdout",
     "output_type": "stream",
     "text": [
      "inner 30\n",
      "outer 30\n"
     ]
    }
   ],
   "source": [
    "# non local keyword\n",
    "def outer():\n",
    "    x = 10\n",
    "    def inner():\n",
    "        nonlocal x # nonlocal keyword  => x is not local, it is nonlocal\n",
    "        x+=20\n",
    "        print('inner', x)\n",
    "    inner() \n",
    "    print('outer', x)\n",
    "\n",
    "outer()"
   ]
  },
  {
   "attachments": {},
   "cell_type": "markdown",
   "metadata": {},
   "source": [
    "---"
   ]
  },
  {
   "attachments": {},
   "cell_type": "markdown",
   "metadata": {},
   "source": [
    "## **Decorator**"
   ]
  },
  {
   "attachments": {},
   "cell_type": "markdown",
   "metadata": {},
   "source": [
    "> A decorator in a python is a function that receives another function as input and add some functionality(decoration) to it and return it.\n",
    "> \n",
    "This can happen only because python function are first class citizen.\\\n",
    "There are 2 types of decorators available in python :\n",
    "- `Buil-in decorator` like `@staticmethod` ,`@abstractmethod`, etc.\n",
    "- `User defined decorator` that we programmers can create according to our need."
   ]
  },
  {
   "cell_type": "code",
   "execution_count": null,
   "metadata": {},
   "outputs": [],
   "source": [
    "# decorators are 1st class citizens : can be passed as arguments to other functions or you can say that\n",
    "# decorators are objects on which you can do all the things that you can do with other objects\n",
    "# decorators are functions that take other functions as arguments and return other functions as return values\n",
    "# decorators are used to modify the functionality of other functions"
   ]
  },
  {
   "cell_type": "code",
   "execution_count": 38,
   "metadata": {},
   "outputs": [
    {
     "name": "stdout",
     "output_type": "stream",
     "text": [
      "myfunc\n"
     ]
    }
   ],
   "source": [
    "# decorators are 1st class citizens\n",
    "def myfunc():\n",
    "    print(\"myfunc\")\n",
    "\n",
    "a=myfunc # a is a function object \n",
    "a()      # myfunc is called "
   ]
  },
  {
   "cell_type": "code",
   "execution_count": 40,
   "metadata": {},
   "outputs": [
    {
     "data": {
      "text/plain": [
       "9"
      ]
     },
     "execution_count": 40,
     "metadata": {},
     "output_type": "execute_result"
    }
   ],
   "source": [
    "# function as argument to another function\n",
    "def modify2(func,x):     # func is a function object \n",
    "    return func(x)\n",
    "\n",
    "def square(x):\n",
    "    return x**2\n",
    "\n",
    "modify2(square, 3) # 9"
   ]
  },
  {
   "cell_type": "code",
   "execution_count": 52,
   "metadata": {},
   "outputs": [
    {
     "name": "stdout",
     "output_type": "stream",
     "text": [
      "**********\n",
      "hello\n",
      "**********\n",
      "**********\n",
      "display\n",
      "**********\n"
     ]
    }
   ],
   "source": [
    "# simple decorator\n",
    "def my_decorator(func):\n",
    "    def wrap_func():\n",
    "        print(\"**********\")\n",
    "        func()\n",
    "        print(\"**********\")\n",
    "    return wrap_func\n",
    "\n",
    "def hello():\n",
    "    print(\"hello\")\n",
    "\n",
    "# a=my_decorator(hello)\n",
    "# a() # ********** hello **********\n",
    "\n",
    "my_decorator(hello)() # ********** hello **********\n",
    "\n",
    "\n",
    "\n",
    "\n",
    "####################### Better syntex ############################\n",
    "\n",
    "@my_decorator\n",
    "def display():\n",
    "    print(\"display\")\n",
    "\n",
    "display() # ********** display **********\n"
   ]
  },
  {
   "cell_type": "code",
   "execution_count": 55,
   "metadata": {},
   "outputs": [
    {
     "name": "stdout",
     "output_type": "stream",
     "text": [
      "hello John you are 25 years old\n",
      "display_info ran in 1.012570858001709 sec\n"
     ]
    }
   ],
   "source": [
    "# meaningful example : timer \n",
    "import time\n",
    "def my_timer(func):\n",
    "    def wrap_func(*args, **kwargs):\n",
    "        t1=time.time()\n",
    "        func(*args, **kwargs)\n",
    "        t2=time.time()\n",
    "        print(f\"{func.__name__} ran in {t2-t1} sec\")\n",
    "    return wrap_func    \n",
    "\n",
    "@my_timer\n",
    "def display_info(name, age):\n",
    "    time.sleep(1)\n",
    "    print(f\"hello {name} you are {age} years old\")\n",
    "\n",
    "\n",
    "display_info(\"John\", 25) # hello John you are 25 years old\n",
    "\n"
   ]
  },
  {
   "cell_type": "code",
   "execution_count": 56,
   "metadata": {},
   "outputs": [
    {
     "name": "stdout",
     "output_type": "stream",
     "text": [
      "**********\n",
      "##########\n",
      "hello\n",
      "##########\n",
      "**********\n"
     ]
    }
   ],
   "source": [
    "# multiple decorators\n",
    "def my_decorator(func):\n",
    "    def wrap_func():\n",
    "        print(\"**********\")\n",
    "        func()\n",
    "        print(\"**********\")\n",
    "    return wrap_func\n",
    "\n",
    "def my_decorator2(func):\n",
    "    def wrap_func():\n",
    "        print(\"##########\")\n",
    "        func()\n",
    "        print(\"##########\")\n",
    "    return wrap_func\n",
    "\n",
    "@my_decorator\n",
    "@my_decorator2\n",
    "def hello():\n",
    "    print(\"hello\")\n",
    "\n",
    "hello() # ********** ########## hello ########## **********"
   ]
  }
 ],
 "metadata": {
  "kernelspec": {
   "display_name": "Python 3",
   "language": "python",
   "name": "python3"
  },
  "language_info": {
   "codemirror_mode": {
    "name": "ipython",
    "version": 3
   },
   "file_extension": ".py",
   "mimetype": "text/x-python",
   "name": "python",
   "nbconvert_exporter": "python",
   "pygments_lexer": "ipython3",
   "version": "3.10.4"
  },
  "orig_nbformat": 4
 },
 "nbformat": 4,
 "nbformat_minor": 2
}
