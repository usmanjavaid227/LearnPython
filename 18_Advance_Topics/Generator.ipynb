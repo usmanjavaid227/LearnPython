{
 "cells": [
  {
   "attachments": {},
   "cell_type": "markdown",
   "metadata": {},
   "source": [
    "# **Generator**"
   ]
  },
  {
   "attachments": {},
   "cell_type": "markdown",
   "metadata": {},
   "source": [
    "Python `Generators` are simple way of creating iterators."
   ]
  },
  {
   "cell_type": "code",
   "execution_count": 1,
   "metadata": {},
   "outputs": [
    {
     "data": {
      "text/plain": [
       "800984"
      ]
     },
     "execution_count": 1,
     "metadata": {},
     "output_type": "execute_result"
    }
   ],
   "source": [
    "L = [x for x in range(100000)]\n",
    "# for i in L:\n",
    "#     print(i*2)\n",
    "\n",
    "import sys\n",
    "sys.getsizeof(L)"
   ]
  },
  {
   "cell_type": "code",
   "execution_count": 2,
   "metadata": {},
   "outputs": [
    {
     "name": "stdout",
     "output_type": "stream",
     "text": [
      "48\n"
     ]
    },
    {
     "data": {
      "text/plain": [
       "48"
      ]
     },
     "execution_count": 2,
     "metadata": {},
     "output_type": "execute_result"
    }
   ],
   "source": [
    "# for i in range(100000):\n",
    "#     print(i*2)\n",
    "\n",
    "import sys\n",
    "print(sys.getsizeof(range(100000)))\n",
    "sys.getsizeof(range(1000000000000))"
   ]
  },
  {
   "cell_type": "code",
   "execution_count": null,
   "metadata": {},
   "outputs": [],
   "source": [
    "# why is range so much smaller than a list?\n",
    "# because range is a generator object "
   ]
  },
  {
   "attachments": {},
   "cell_type": "markdown",
   "metadata": {},
   "source": [
    "> `python generator is function that returns an object (iterator) which we can iterate over (one value at a time)`"
   ]
  },
  {
   "cell_type": "code",
   "execution_count": null,
   "metadata": {},
   "outputs": [],
   "source": [
    "# generators are iterators\n",
    "# generators are lazy\n",
    "# generators are memory efficient"
   ]
  },
  {
   "cell_type": "code",
   "execution_count": 3,
   "metadata": {},
   "outputs": [
    {
     "name": "stdout",
     "output_type": "stream",
     "text": [
      "first statement\n",
      "second statement\n",
      "third statement\n"
     ]
    }
   ],
   "source": [
    "# simple example\n",
    "def my_gen():\n",
    "    yield \"first statement\"\n",
    "    yield \"second statement\"\n",
    "    yield \"third statement\"\n",
    "\n",
    "\n",
    "a = my_gen()\n",
    "# for i in a:\n",
    "#     print(i)\n",
    "\n",
    "print(next(a))\n",
    "print(next(a))\n",
    "print(next(a))\n"
   ]
  },
  {
   "cell_type": "code",
   "execution_count": null,
   "metadata": {},
   "outputs": [],
   "source": [
    "# we use it to iterate over a sequence of values as it is more memory efficient\n",
    "# It does not store all the values in memory, it generates the values on the fly\n",
    "\n",
    "# It temporarily pause the execution of the function and save the state of the execution context and\n",
    "# the values of all the variables in the function and then resumes the execution of the function \n",
    "# from the same point when it was paused the next time it is called for the next value. "
   ]
  },
  {
   "cell_type": "code",
   "execution_count": null,
   "metadata": {},
   "outputs": [],
   "source": [
    "# diff b/w function and generator \n",
    "#  1. generator uses yield instead of return\n",
    "#  2. generator can be iterated over only once\n",
    "#  3. generator can be paused and resumed"
   ]
  },
  {
   "cell_type": "code",
   "execution_count": 4,
   "metadata": {},
   "outputs": [
    {
     "name": "stdout",
     "output_type": "stream",
     "text": [
      "1\n",
      "4\n",
      "9\n",
      "16\n",
      "25\n",
      "36\n",
      "49\n",
      "64\n",
      "81\n",
      "100\n"
     ]
    }
   ],
   "source": [
    "# example\n",
    "def square(n):\n",
    "    for i in range(1,n+1):\n",
    "        yield i**2\n",
    "\n",
    "a=square(10)     # object of generator\n",
    "print(next(a))\n",
    "print(next(a))\n",
    "print(next(a))\n",
    "\n",
    "for i in a:   # it continues from where it was paused \n",
    "    print(i)\n",
    "\n",
    "# generator comprehension\n",
    "# similar to list comprehension\n",
    "# but instead of square brackets we use round brackets\n",
    "# it is also memory efficient"
   ]
  },
  {
   "attachments": {},
   "cell_type": "markdown",
   "metadata": {},
   "source": [
    "### **Range function using generator**"
   ]
  },
  {
   "cell_type": "code",
   "execution_count": 5,
   "metadata": {},
   "outputs": [
    {
     "name": "stdout",
     "output_type": "stream",
     "text": [
      "1\n",
      "2\n",
      "3\n",
      "4\n",
      "5\n",
      "6\n",
      "7\n",
      "8\n",
      "9\n",
      "10\n"
     ]
    }
   ],
   "source": [
    "def mera_range(s,e):\n",
    "    for i in range(s,e+1):\n",
    "        yield i\n",
    "\n",
    "a = mera_range(1,10)\n",
    "print(next(a))\n",
    "print(next(a))\n",
    "print(next(a))\n",
    "for i in a:\n",
    "    print(i)"
   ]
  },
  {
   "attachments": {},
   "cell_type": "markdown",
   "metadata": {},
   "source": [
    "### **Generator EXP**"
   ]
  },
  {
   "attachments": {},
   "cell_type": "markdown",
   "metadata": {},
   "source": [
    "You don't need to create a function"
   ]
  },
  {
   "cell_type": "code",
   "execution_count": 6,
   "metadata": {},
   "outputs": [
    {
     "name": "stdout",
     "output_type": "stream",
     "text": [
      "1\n",
      "4\n",
      "9\n",
      "16\n",
      "25\n",
      "36\n",
      "49\n",
      "64\n",
      "81\n",
      "100\n"
     ]
    }
   ],
   "source": [
    "gen=(x**2 for x in range(1,11))   # annonymous generator function \n",
    "for i in gen:\n",
    "    print(i)"
   ]
  },
  {
   "attachments": {},
   "cell_type": "markdown",
   "metadata": {},
   "source": [
    "---"
   ]
  }
 ],
 "metadata": {
  "kernelspec": {
   "display_name": "Python 3",
   "language": "python",
   "name": "python3"
  },
  "language_info": {
   "codemirror_mode": {
    "name": "ipython",
    "version": 3
   },
   "file_extension": ".py",
   "mimetype": "text/x-python",
   "name": "python",
   "nbconvert_exporter": "python",
   "pygments_lexer": "ipython3",
   "version": "3.10.4"
  },
  "orig_nbformat": 4
 },
 "nbformat": 4,
 "nbformat_minor": 2
}
