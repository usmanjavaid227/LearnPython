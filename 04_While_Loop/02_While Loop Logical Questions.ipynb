{
 "cells": [
  {
   "cell_type": "markdown",
   "metadata": {},
   "source": [
    "# 4 | While Loop\n",
    "1. While loop logic building\n",
    "2. Series based Questions\n",
    "3. Break\n",
    "4. Continue\n",
    "5. Nested While Loops\n",
    "6. Pattern-Based Questions\n",
    "7. pass\n",
    "8. Loop else"
   ]
  },
  {
   "cell_type": "markdown",
   "metadata": {},
   "source": [
    "**WAP to enter a number from user and check if it is pallindrome or not**"
   ]
  },
  {
   "cell_type": "code",
   "execution_count": null,
   "metadata": {},
   "outputs": [],
   "source": [
    "121 - 121\n",
    "\n",
    "12321 - 12321"
   ]
  },
  {
   "cell_type": "code",
   "execution_count": 5,
   "metadata": {},
   "outputs": [
    {
     "name": "stdout",
     "output_type": "stream",
     "text": [
      "Enter a number121\n",
      "Palindrome\n"
     ]
    }
   ],
   "source": [
    "n = int(input(\"Enter a number\"))\n",
    "temp = n\n",
    "s = 0\n",
    "\n",
    "while n > 0:\n",
    "    r = n % 10\n",
    "    s = s * 10 + r\n",
    "    n = n // 10\n",
    "\n",
    "if s == temp:\n",
    "    print(\"Palindrome\")\n",
    "else:\n",
    "    print(\"Non Palindrome\")"
   ]
  },
  {
   "cell_type": "markdown",
   "metadata": {},
   "source": [
    "**WAP to enter a number from user and check if it is armstrong or not**"
   ]
  },
  {
   "cell_type": "code",
   "execution_count": null,
   "metadata": {},
   "outputs": [],
   "source": [
    "153 \n",
    "\n",
    "cube(1) + cube(5) + cube(3)\n",
    "\n",
    "370\n",
    "\n",
    "371"
   ]
  },
  {
   "cell_type": "code",
   "execution_count": 9,
   "metadata": {},
   "outputs": [
    {
     "name": "stdout",
     "output_type": "stream",
     "text": [
      "Enter a number371\n",
      "Armstong\n"
     ]
    }
   ],
   "source": [
    "n = int(input(\"Enter a number\"))\n",
    "temp = n\n",
    "s = 0\n",
    "\n",
    "while n > 0:\n",
    "    r = n % 10\n",
    "    s = s + (r*r*r) # d = 0, 27, 152. 153\n",
    "    n = n // 10\n",
    "\n",
    "if s == temp:\n",
    "    print(\"Armstong\")\n",
    "else:\n",
    "    print(\"Non Armstrong\")"
   ]
  },
  {
   "cell_type": "markdown",
   "metadata": {},
   "source": [
    "**WAP to enter a number from user and print its individual digits on seperate line**"
   ]
  },
  {
   "cell_type": "code",
   "execution_count": null,
   "metadata": {},
   "outputs": [],
   "source": [
    "153\n",
    "\n",
    "1\n",
    "5\n",
    "3"
   ]
  },
  {
   "cell_type": "code",
   "execution_count": 10,
   "metadata": {},
   "outputs": [
    {
     "name": "stdout",
     "output_type": "stream",
     "text": [
      "Enter a number153\n",
      "3\n",
      "5\n",
      "1\n"
     ]
    }
   ],
   "source": [
    "n = int(input(\"Enter a number\"))\n",
    "\n",
    "while n > 0:\n",
    "    r = n % 10\n",
    "    print(r)\n",
    "    n = n // 10"
   ]
  },
  {
   "cell_type": "code",
   "execution_count": 13,
   "metadata": {},
   "outputs": [
    {
     "name": "stdout",
     "output_type": "stream",
     "text": [
      "Enter a number153\n",
      "1\n",
      "5\n",
      "3\n"
     ]
    }
   ],
   "source": [
    "n = int(input(\"Enter a number\"))\n",
    "s = 0\n",
    "\n",
    "while n > 0:\n",
    "    r = n % 10\n",
    "    s = s * 10 + r\n",
    "    n = n // 10\n",
    "\n",
    "while s > 0:\n",
    "    r = s % 10\n",
    "    print(r)\n",
    "    s = s // 10"
   ]
  },
  {
   "cell_type": "markdown",
   "metadata": {},
   "source": [
    "**WAP to enter a number from user and print its individual digits in character format**"
   ]
  },
  {
   "cell_type": "code",
   "execution_count": null,
   "metadata": {},
   "outputs": [],
   "source": [
    "153\n",
    "\n",
    "one\n",
    "five\n",
    "three"
   ]
  },
  {
   "cell_type": "code",
   "execution_count": 16,
   "metadata": {},
   "outputs": [
    {
     "name": "stdout",
     "output_type": "stream",
     "text": [
      "Enter a number1212123\n",
      "One\n",
      "Two\n",
      "One\n",
      "Two\n",
      "One\n",
      "Two\n",
      "Three\n"
     ]
    }
   ],
   "source": [
    "n = int(input(\"Enter a number\"))\n",
    "s = 0\n",
    "\n",
    "while n > 0:\n",
    "    r = n % 10\n",
    "    s = s * 10 + r\n",
    "    n = n // 10\n",
    "\n",
    "while s > 0:\n",
    "    r = s % 10\n",
    "    if r == 1:\n",
    "        print(\"One\")\n",
    "    elif r == 2:\n",
    "        print(\"Two\")\n",
    "    elif r == 3:\n",
    "        print(\"Three\")\n",
    "    elif r == 4:\n",
    "        print(\"Four\")\n",
    "    elif r == 5:\n",
    "        print(\"Five\")\n",
    "    elif r == 6:\n",
    "        print(\"Six\")\n",
    "    s = s // 10"
   ]
  }
 ],
 "metadata": {
  "kernelspec": {
   "display_name": "Python 3",
   "language": "python",
   "name": "python3"
  },
  "language_info": {
   "codemirror_mode": {
    "name": "ipython",
    "version": 3
   },
   "file_extension": ".py",
   "mimetype": "text/x-python",
   "name": "python",
   "nbconvert_exporter": "python",
   "pygments_lexer": "ipython3",
   "version": "3.7.6"
  }
 },
 "nbformat": 4,
 "nbformat_minor": 4
}
