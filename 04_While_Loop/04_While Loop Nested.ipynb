{
 "cells": [
  {
   "cell_type": "markdown",
   "metadata": {},
   "source": [
    "# 4 | While Loop\n",
    "1. While loop logic building\n",
    "2. Series based Questions\n",
    "3. Break\n",
    "4. Continue\n",
    "5. Nested While Loops\n",
    "6. Pattern-Based Questions\n",
    "7. pass\n",
    "8. Loop else"
   ]
  },
  {
   "cell_type": "code",
   "execution_count": null,
   "metadata": {},
   "outputs": [],
   "source": [
    "0  1  1  2  3  5  8  13\n",
    "a  b  c\n",
    "   a  b  c\n",
    "      a  b  c"
   ]
  },
  {
   "cell_type": "code",
   "execution_count": 13,
   "metadata": {},
   "outputs": [
    {
     "name": "stdout",
     "output_type": "stream",
     "text": [
      "Enter Limit5\n",
      "0  1  1  2  3  "
     ]
    }
   ],
   "source": [
    "n = int(input(\"Enter Limit\"))\n",
    "a = 0\n",
    "b = 1\n",
    "\n",
    "i = 1\n",
    "\n",
    "while i <= n:\n",
    "    print(a, end='  ')\n",
    "    c = a + b\n",
    "    a = b\n",
    "    b = c\n",
    "    i += 1"
   ]
  },
  {
   "cell_type": "markdown",
   "metadata": {},
   "source": [
    "# Nested While loop\n"
   ]
  },
  {
   "cell_type": "code",
   "execution_count": null,
   "metadata": {},
   "outputs": [],
   "source": [
    "1 2 3\n",
    "4 5 6\n",
    "7 8 9"
   ]
  },
  {
   "cell_type": "code",
   "execution_count": null,
   "metadata": {},
   "outputs": [],
   "source": [
    "11  12  13\n",
    "21  22  23\n",
    "31  32  33"
   ]
  },
  {
   "cell_type": "code",
   "execution_count": 2,
   "metadata": {},
   "outputs": [
    {
     "name": "stdout",
     "output_type": "stream",
     "text": [
      "1 1\t1 2\t1 3\t\n",
      "\n",
      "\n"
     ]
    }
   ],
   "source": [
    "i = 1\n",
    "j = 1\n",
    "\n",
    "while i <= 3:\n",
    "    \n",
    "    while j <= 3:\n",
    "        print(i, j, end='\\t')\n",
    "        j += 1\n",
    "    print()\n",
    "    i += 1"
   ]
  },
  {
   "cell_type": "code",
   "execution_count": 2,
   "metadata": {},
   "outputs": [
    {
     "name": "stdout",
     "output_type": "stream",
     "text": [
      "1 1\t1 2\t1 3\t\n",
      "2 1\t2 2\t2 3\t\n",
      "3 1\t3 2\t3 3\t\n"
     ]
    }
   ],
   "source": [
    "i = 1\n",
    "\n",
    "while i <= 3:\n",
    "    j = 1\n",
    "    while j <= 3:\n",
    "        print(i, j, end='\\t')\n",
    "        j += 1\n",
    "    print()\n",
    "    i += 1"
   ]
  },
  {
   "cell_type": "code",
   "execution_count": 3,
   "metadata": {},
   "outputs": [
    {
     "name": "stdout",
     "output_type": "stream",
     "text": [
      "11  12  13  \n",
      "21  22  23  \n",
      "31  32  33  \n"
     ]
    }
   ],
   "source": [
    "i = 1\n",
    "\n",
    "while i <= 3:\n",
    "    j = 1\n",
    "    while j <= 3:\n",
    "        print(i, end='')\n",
    "        print(j, end='  ')\n",
    "        j += 1\n",
    "    print()\n",
    "    i += 1"
   ]
  },
  {
   "cell_type": "code",
   "execution_count": null,
   "metadata": {},
   "outputs": [],
   "source": [
    "*\n",
    "**\n",
    "***\n",
    "****\n",
    "*****"
   ]
  },
  {
   "cell_type": "code",
   "execution_count": 6,
   "metadata": {},
   "outputs": [
    {
     "name": "stdout",
     "output_type": "stream",
     "text": [
      "*\n",
      "**\n",
      "***\n",
      "****\n",
      "*****\n"
     ]
    }
   ],
   "source": [
    "i = 1\n",
    "\n",
    "while i <= 5:\n",
    "    j = 1\n",
    "    while j <= i:\n",
    "        print(\"*\", end='')\n",
    "        j += 1\n",
    "    print()\n",
    "    i += 1"
   ]
  },
  {
   "cell_type": "code",
   "execution_count": 7,
   "metadata": {},
   "outputs": [
    {
     "name": "stdout",
     "output_type": "stream",
     "text": [
      "*****\n",
      "*****\n",
      "*****\n",
      "*****\n",
      "*****\n"
     ]
    }
   ],
   "source": [
    "i = 1\n",
    "\n",
    "while i <= 5:\n",
    "    j = 1\n",
    "    while j <= 5:\n",
    "        print(\"*\", end='')\n",
    "        j += 1\n",
    "    print()\n",
    "    i += 1"
   ]
  },
  {
   "cell_type": "code",
   "execution_count": null,
   "metadata": {},
   "outputs": [],
   "source": [
    "1\n",
    "12\n",
    "123\n",
    "1234\n",
    "12345"
   ]
  },
  {
   "cell_type": "code",
   "execution_count": 8,
   "metadata": {},
   "outputs": [
    {
     "name": "stdout",
     "output_type": "stream",
     "text": [
      "1\n",
      "12\n",
      "123\n",
      "1234\n",
      "12345\n"
     ]
    }
   ],
   "source": [
    "i = 1\n",
    "\n",
    "while i <= 5:\n",
    "    j = 1\n",
    "    while j <= i:\n",
    "        print(j, end='')\n",
    "        j += 1\n",
    "    print()\n",
    "    i += 1"
   ]
  },
  {
   "cell_type": "code",
   "execution_count": null,
   "metadata": {},
   "outputs": [],
   "source": [
    "1\n",
    "22\n",
    "333\n",
    "4444\n",
    "55555"
   ]
  },
  {
   "cell_type": "code",
   "execution_count": 9,
   "metadata": {},
   "outputs": [
    {
     "name": "stdout",
     "output_type": "stream",
     "text": [
      "1\n",
      "22\n",
      "333\n",
      "4444\n",
      "55555\n"
     ]
    }
   ],
   "source": [
    "i = 1\n",
    "\n",
    "while i <= 5:\n",
    "    j = 1\n",
    "    while j <= i:\n",
    "        print(i, end='')\n",
    "        j += 1\n",
    "    print()\n",
    "    i += 1"
   ]
  },
  {
   "cell_type": "code",
   "execution_count": 5,
   "metadata": {},
   "outputs": [
    {
     "name": "stdout",
     "output_type": "stream",
     "text": [
      "5\n",
      "44\n",
      "333\n",
      "2222\n",
      "11111\n"
     ]
    }
   ],
   "source": [
    "# 5\n",
    "# 44\n",
    "# 333\n",
    "# 2222\n",
    "# 11111\n",
    "\n",
    "################################\n",
    "i=1\n",
    "while i<=5:\n",
    "    j=1\n",
    "    while j<=i:\n",
    "        print(6-i,end='')\n",
    "        j=j+1\n",
    "    print()\n",
    "    i=i+1"
   ]
  },
  {
   "cell_type": "code",
   "execution_count": 6,
   "metadata": {},
   "outputs": [
    {
     "name": "stdout",
     "output_type": "stream",
     "text": [
      "5\n",
      "54\n",
      "543\n",
      "5432\n",
      "54321\n"
     ]
    }
   ],
   "source": [
    "# 5\n",
    "# 54\n",
    "# 543\n",
    "# 5432\n",
    "# 54321\n",
    "################################\n",
    "i=1\n",
    "while i<=5:\n",
    "    j=1\n",
    "    while j<=i:\n",
    "        print(6-j,end='')\n",
    "        j=j+1\n",
    "    print()\n",
    "    i=i+1"
   ]
  },
  {
   "cell_type": "code",
   "execution_count": 7,
   "metadata": {},
   "outputs": [
    {
     "name": "stdout",
     "output_type": "stream",
     "text": [
      "55555\n",
      "4444\n",
      "333\n",
      "22\n",
      "1\n"
     ]
    }
   ],
   "source": [
    "# 55555\n",
    "# 4444\n",
    "# 333\n",
    "# 22\n",
    "# 1\n",
    "################################\n",
    "i=1\n",
    "while i<=5:\n",
    "    j=1\n",
    "    while j<=6-i:\n",
    "        print(6-i,end='')\n",
    "        j=j+1\n",
    "    print()\n",
    "    i=i+1"
   ]
  },
  {
   "cell_type": "code",
   "execution_count": 8,
   "metadata": {},
   "outputs": [
    {
     "name": "stdout",
     "output_type": "stream",
     "text": [
      "54321\n",
      "5432\n",
      "543\n",
      "54\n",
      "5\n"
     ]
    }
   ],
   "source": [
    "# 54321\n",
    "# 5432\n",
    "# 543\n",
    "# 54\n",
    "# 5\n",
    "################################\n",
    "i=1\n",
    "while i<=5:\n",
    "    j=1\n",
    "    while j<=6-i:\n",
    "        print(6-j,end='')\n",
    "        j=j+1\n",
    "    print()\n",
    "    i=i+1"
   ]
  },
  {
   "cell_type": "code",
   "execution_count": 9,
   "metadata": {},
   "outputs": [
    {
     "name": "stdout",
     "output_type": "stream",
     "text": [
      "12345\n",
      "1234\n",
      "123\n",
      "12\n",
      "1\n"
     ]
    }
   ],
   "source": [
    "# 12345\n",
    "# 1234\n",
    "# 123\n",
    "# 12\n",
    "# 1\n",
    "################################\n",
    "i=1\n",
    "while i<=5:\n",
    "    j=1\n",
    "    while j<=6-i:\n",
    "        print(j,end='')\n",
    "        j=j+1\n",
    "    print()\n",
    "    i=i+1"
   ]
  },
  {
   "cell_type": "code",
   "execution_count": 10,
   "metadata": {},
   "outputs": [
    {
     "name": "stdout",
     "output_type": "stream",
     "text": [
      "11111\n",
      "2222\n",
      "333\n",
      "44\n",
      "5\n"
     ]
    }
   ],
   "source": [
    "# 11111\n",
    "# 2222\n",
    "# 333\n",
    "# 44\n",
    "# 5\n",
    "################################\n",
    "i=1\n",
    "while i<=5:\n",
    "    j=1\n",
    "    while j<=6-i:\n",
    "        print(i,end='')\n",
    "        j=j+1\n",
    "    print()\n",
    "    i=i+1"
   ]
  },
  {
   "cell_type": "code",
   "execution_count": 16,
   "metadata": {},
   "outputs": [
    {
     "name": "stdout",
     "output_type": "stream",
     "text": [
      "1  \n",
      "2  3  \n",
      "4  5  6  \n",
      "7  8  9  10  \n"
     ]
    }
   ],
   "source": [
    "# 1\n",
    "# 23\n",
    "# 456\n",
    "# 78910\n",
    "################################\n",
    "i=1\n",
    "sum=0\n",
    "while i<=4:\n",
    "    j=1\n",
    "    while j<=i:\n",
    "        print(sum+1,\" \",end='')\n",
    "        sum=sum+1\n",
    "        j=j+1\n",
    "    print()\n",
    "    i=i+1"
   ]
  },
  {
   "cell_type": "code",
   "execution_count": 43,
   "metadata": {},
   "outputs": [
    {
     "name": "stdout",
     "output_type": "stream",
     "text": [
      "    *\n",
      "   **\n",
      "  ***\n",
      " ****\n",
      "*****\n"
     ]
    }
   ],
   "source": [
    "#     *\n",
    "#    **\n",
    "#   ***\n",
    "#  ****\n",
    "# *****\n",
    "################################\n",
    "i=1\n",
    "while i<=5:\n",
    "    j=1\n",
    "    while j<=5-i:\n",
    "        print(\" \",end='')\n",
    "        j=j+1\n",
    "    k=1\n",
    "    while k<=i:\n",
    "        print(\"*\",end='')\n",
    "        k=k+1\n",
    "    print()\n",
    "    i=i+1\n"
   ]
  },
  {
   "cell_type": "code",
   "execution_count": 45,
   "metadata": {},
   "outputs": [
    {
     "name": "stdout",
     "output_type": "stream",
     "text": [
      "    *\n",
      "   ***\n",
      "  *****\n",
      " *******\n",
      "*********\n"
     ]
    }
   ],
   "source": [
    "#     *\n",
    "#    ***\n",
    "#   *****\n",
    "#  *******\n",
    "# *********\n",
    "################################\n",
    "i=1\n",
    "while i<=5:\n",
    "    j=1\n",
    "    while j<=5-i:\n",
    "        print(\" \",end='')\n",
    "        j=j+1\n",
    "    k=1\n",
    "    while k<=2*i-1:\n",
    "        print(\"*\",end='')\n",
    "        k=k+1\n",
    "    print()\n",
    "    i=i+1"
   ]
  },
  {
   "cell_type": "code",
   "execution_count": null,
   "metadata": {},
   "outputs": [],
   "source": [
    "    *\n",
    "   ***\n",
    "  *****\n",
    " *******\n",
    "*********\n",
    " *******\n",
    "  *****\n",
    "   ***\n",
    "    *"
   ]
  },
  {
   "cell_type": "code",
   "execution_count": 46,
   "metadata": {},
   "outputs": [
    {
     "name": "stdout",
     "output_type": "stream",
     "text": [
      "    *\n",
      "   ***\n",
      "  *****\n",
      " *******\n",
      "*********\n",
      " *******\n",
      "  *****\n",
      "   ***\n",
      "    *\n"
     ]
    }
   ],
   "source": [
    "i=1\n",
    "while i<=5:\n",
    "    j=1\n",
    "    while j<=5-i:\n",
    "        print(\" \",end='')\n",
    "        j=j+1\n",
    "    k=1\n",
    "    while k<=2*i-1:\n",
    "        print(\"*\",end='')\n",
    "        k=k+1\n",
    "    print()\n",
    "    i=i+1\n",
    "\n",
    "l=1\n",
    "while l<=4:\n",
    "    m=1\n",
    "    while m<=l:\n",
    "        print(\" \",end='')\n",
    "        m=m+1\n",
    "    n=1\n",
    "    while n<=9-2*l:\n",
    "        print(\"*\",end='')\n",
    "        n=n+1\n",
    "    print()\n",
    "    l=l+1"
   ]
  },
  {
   "cell_type": "code",
   "execution_count": 48,
   "metadata": {},
   "outputs": [
    {
     "name": "stdout",
     "output_type": "stream",
     "text": [
      "     *\n",
      "    * *\n",
      "   * * *\n",
      "  * * * *\n",
      " * * * * *\n",
      "  * * * *\n",
      "   * * *\n",
      "    * *\n",
      "     *\n"
     ]
    }
   ],
   "source": [
    "i=1\n",
    "while i<=5:\n",
    "    j=1\n",
    "    while j<=5-i:\n",
    "        print(' ',end='')\n",
    "        j+=1\n",
    "    k=1\n",
    "    while k<=i:\n",
    "        print(' *',end='')\n",
    "        k+=1\n",
    "    print()\n",
    "    i+=1\n",
    "l=1\n",
    "while l<=4:\n",
    "    m=1\n",
    "    while m<=l:\n",
    "        print(' ',end='')\n",
    "        m+=1\n",
    "    n=1\n",
    "    while n<=5-l:\n",
    "        print(' *',end='')\n",
    "        n+=1\n",
    "    print()\n",
    "    l+=1\n",
    "\n"
   ]
  },
  {
   "cell_type": "code",
   "execution_count": null,
   "metadata": {},
   "outputs": [],
   "source": []
  },
  {
   "cell_type": "code",
   "execution_count": null,
   "metadata": {},
   "outputs": [],
   "source": []
  },
  {
   "cell_type": "code",
   "execution_count": null,
   "metadata": {},
   "outputs": [],
   "source": []
  },
  {
   "cell_type": "code",
   "execution_count": null,
   "metadata": {},
   "outputs": [],
   "source": []
  }
 ],
 "metadata": {
  "kernelspec": {
   "display_name": "Python 3.10.4 64-bit",
   "language": "python",
   "name": "python3"
  },
  "language_info": {
   "codemirror_mode": {
    "name": "ipython",
    "version": 3
   },
   "file_extension": ".py",
   "mimetype": "text/x-python",
   "name": "python",
   "nbconvert_exporter": "python",
   "pygments_lexer": "ipython3",
   "version": "3.10.4"
  },
  "vscode": {
   "interpreter": {
    "hash": "369f2c481f4da34e4445cda3fffd2e751bd1c4d706f27375911949ba6bb62e1c"
   }
  }
 },
 "nbformat": 4,
 "nbformat_minor": 4
}
