{
 "cells": [
  {
   "cell_type": "markdown",
   "metadata": {},
   "source": [
    "# **Class & Objects**"
   ]
  },
  {
   "cell_type": "markdown",
   "metadata": {},
   "source": [
    "> class is used to create user defined data type \n",
    "\n",
    "> class is a blueprint for creating objects"
   ]
  },
  {
   "cell_type": "code",
   "execution_count": 8,
   "metadata": {},
   "outputs": [
    {
     "name": "stdout",
     "output_type": "stream",
     "text": [
      "<class 'list'>\n",
      "[]\n"
     ]
    }
   ],
   "source": [
    "l=[1,2,3,4,5]\n",
    "\n",
    "print(type(l))\n",
    "# l is an object of list class\n",
    "# method to craete object \n",
    "# object_name=class_name()\n",
    "l=list()\n",
    "print(l)"
   ]
  },
  {
   "cell_type": "markdown",
   "metadata": {},
   "source": [
    "* Class is a group of attributes and methods. "
   ]
  },
  {
   "cell_type": "markdown",
   "metadata": {},
   "source": [
    "_**Attributes**_:\n",
    "* Attributes represented by Variables that contain data."
   ]
  },
  {
   "cell_type": "markdown",
   "metadata": {},
   "source": [
    "_**Methods**_:\n",
    "- Methods perform an action or task.It is similar to function."
   ]
  },
  {
   "cell_type": "markdown",
   "metadata": {},
   "source": [
    "## How to create `Class` "
   ]
  },
  {
   "cell_type": "code",
   "execution_count": null,
   "metadata": {},
   "outputs": [],
   "source": [
    "# class className(object):\n",
    "#     def __init__(self):\n",
    "#         self.variable_name=value\n",
    "#         self.variable_name=\"value\"\n",
    "#     def methodName(self):\n",
    "#          BodyOfMethod"
   ]
  },
  {
   "cell_type": "markdown",
   "metadata": {},
   "source": [
    "> `class` is a keyword used to create a class\n",
    "\n",
    "> `Object` is a class that is the base class for all classes. It is the root of the class hierarchy. Every class has object as a superclass. All built-in classes are derived from object, either directly or indirectly.\n",
    "\n",
    ">`__init__()` indicates that this is a constructor method. It is called when an object is created from the class and it allows the class to initialize the attributes of the class.\n",
    "\n",
    "> `self` is a reference to the current instance of the class and is used to access variables that belongs to the class."
   ]
  },
  {
   "cell_type": "markdown",
   "metadata": {},
   "source": [
    "**Rules**:\n",
    "- The class name can be any valid identifier.\n",
    "- It can't be python's reserved keywords.\n",
    "- Start with Capital letters generally."
   ]
  },
  {
   "cell_type": "markdown",
   "metadata": {},
   "source": [
    "i.e\n"
   ]
  },
  {
   "cell_type": "code",
   "execution_count": 12,
   "metadata": {},
   "outputs": [
    {
     "name": "stdout",
     "output_type": "stream",
     "text": [
      "Batting\n"
     ]
    }
   ],
   "source": [
    "class Cricket:\n",
    "    def bat(self):\n",
    "        print(\"Batting\")\n",
    "        \n",
    "c=Cricket() # object creation\n",
    "c.bat() # calling method\n"
   ]
  },
  {
   "cell_type": "markdown",
   "metadata": {},
   "source": [
    "`c` is an object  ->"
   ]
  },
  {
   "cell_type": "code",
   "execution_count": 13,
   "metadata": {},
   "outputs": [
    {
     "name": "stdout",
     "output_type": "stream",
     "text": [
      "<__main__.Cricket object at 0x000002377132CC10>\n"
     ]
    }
   ],
   "source": [
    "print(c)"
   ]
  },
  {
   "cell_type": "code",
   "execution_count": 14,
   "metadata": {},
   "outputs": [
    {
     "data": {
      "text/plain": [
       "2437145611280"
      ]
     },
     "execution_count": 14,
     "metadata": {},
     "output_type": "execute_result"
    }
   ],
   "source": [
    "id(c)"
   ]
  },
  {
   "cell_type": "markdown",
   "metadata": {},
   "source": [
    "-> `self` is a reference to the current instance of the class"
   ]
  },
  {
   "cell_type": "code",
   "execution_count": 17,
   "metadata": {},
   "outputs": [
    {
     "name": "stdout",
     "output_type": "stream",
     "text": [
      "1\n",
      "<__main__.Bowler object at 0x000002377132CA60>\n"
     ]
    }
   ],
   "source": [
    "class Bowler():\n",
    "    def bowl(self):\n",
    "        print(1)\n",
    "        print(self) # instance \n",
    "        \n",
    "b=Bowler()\n",
    "b.bowl()\n",
    "\n"
   ]
  },
  {
   "cell_type": "markdown",
   "metadata": {},
   "source": [
    "Another example :"
   ]
  },
  {
   "cell_type": "code",
   "execution_count": 18,
   "metadata": {},
   "outputs": [],
   "source": [
    "class Football:\n",
    "    \n",
    "    def goal(self, x):  \n",
    "        self.a = x      # class variable / class member / instance\n",
    "    \n",
    "    def display(self):\n",
    "        print(self.a)\n",
    "    \n",
    "f = Football()"
   ]
  },
  {
   "cell_type": "code",
   "execution_count": 23,
   "metadata": {},
   "outputs": [
    {
     "name": "stdout",
     "output_type": "stream",
     "text": [
      "10\n"
     ]
    }
   ],
   "source": [
    "f.goal(10)\n",
    "f.display()"
   ]
  },
  {
   "cell_type": "code",
   "execution_count": 25,
   "metadata": {},
   "outputs": [
    {
     "data": {
      "text/plain": [
       "10"
      ]
     },
     "execution_count": 25,
     "metadata": {},
     "output_type": "execute_result"
    }
   ],
   "source": [
    "f.a"
   ]
  },
  {
   "cell_type": "markdown",
   "metadata": {},
   "source": [
    "---"
   ]
  },
  {
   "cell_type": "code",
   "execution_count": 26,
   "metadata": {},
   "outputs": [
    {
     "name": "stdout",
     "output_type": "stream",
     "text": [
      "Cricketer class constructor\n",
      "Name: Babar\n",
      "Age: 28\n",
      "Country: Pak\n",
      "Batting\n"
     ]
    }
   ],
   "source": [
    "class Cricketer:\n",
    "    def __init__(self, name, age, country):\n",
    "        print(\"Cricketer class constructor\")\n",
    "        self.name = name\n",
    "        self.age = age\n",
    "        self.country = country\n",
    "    def bat(self):\n",
    "        print(\"Batting\")\n",
    "    def bowl(self):\n",
    "        print(\"Bowling\")\n",
    "    def field(self):\n",
    "        print(\"Fielding\")\n",
    "\n",
    "    def display(self):\n",
    "        print(\"Name:\", self.name)\n",
    "        print(\"Age:\", self.age)\n",
    "        print(\"Country:\", self.country)\n",
    "        return self.bat()\n",
    "        \n",
    "\n",
    "\n",
    "c=Cricketer(\"Babar\", 28, \"Pak\") # object creation\n",
    "c.display() # calling method\n",
    "\n",
    "        "
   ]
  },
  {
   "cell_type": "markdown",
   "metadata": {},
   "source": [
    "_**Object**_"
   ]
  },
  {
   "cell_type": "markdown",
   "metadata": {},
   "source": [
    "+ Object is class type variable or class instance. \n",
    "+ To use a class, we should create an object to a class.\n",
    "+ It allocate the memory of an object.\n",
    "  "
   ]
  },
  {
   "cell_type": "markdown",
   "metadata": {},
   "source": [
    "i.e"
   ]
  },
  {
   "cell_type": "code",
   "execution_count": 33,
   "metadata": {},
   "outputs": [
    {
     "name": "stdout",
     "output_type": "stream",
     "text": [
      "University class constructor\n",
      "Name: PUGC\n"
     ]
    }
   ],
   "source": [
    "class University():\n",
    "    def __init__(self, name):\n",
    "        print(\"University class constructor\")\n",
    "        self.name = name\n",
    "\n",
    "    def display(self):\n",
    "        print(\"Name:\", self.name)\n",
    "\n",
    "U=University(\"PUGC\") # object creation\n",
    "U.display() # calling method"
   ]
  },
  {
   "cell_type": "code",
   "execution_count": 38,
   "metadata": {},
   "outputs": [
    {
     "name": "stdout",
     "output_type": "stream",
     "text": [
      "Mobile class constructor\n",
      "Name: Samsung\n",
      "Price: 10000\n",
      "------------------------------\n",
      "Mobile class constructor\n",
      "Name: oppo\n",
      "Price: 20000\n",
      "------------------------------\n"
     ]
    }
   ],
   "source": [
    "class Mobile():\n",
    "    def __init__(self, name, price):\n",
    "        print(\"Mobile class constructor\")\n",
    "        self.name = name\n",
    "        self.price = price\n",
    "\n",
    "    def display(self):\n",
    "        print(\"Name:\", self.name)\n",
    "        print(\"Price:\", self.price)\n",
    "        print(\"-\"*30)\n",
    "        \n",
    "m1=Mobile(\"Samsung\", 10000) # object creation\n",
    "m1.display() # calling method\n",
    "m2=Mobile(\"oppo\", 20000) # object creation\n",
    "m2.display() # calling method"
   ]
  },
  {
   "cell_type": "markdown",
   "metadata": {},
   "source": [
    "### _How Object works?_"
   ]
  },
  {
   "cell_type": "markdown",
   "metadata": {},
   "source": [
    "> ----\n",
    "> >A block of memory is allocated on heap.It's size depends on the attributes and methods available in the class.\n",
    "> \n",
    "> -----\n",
    ">> After allocating memory block, the constructor is called\n",
    "> \n",
    "> -----\n",
    "> > The allocated memory location address is returned into object.\n",
    "> \n",
    "> -----\n",
    "> > The memory location is passed to self.\n",
    "> \n",
    "> -----\n"
   ]
  },
  {
   "cell_type": "markdown",
   "metadata": {},
   "source": [
    "_**`Self`**_"
   ]
  },
  {
   "cell_type": "markdown",
   "metadata": {},
   "source": [
    "* `self` is a default variable that contains the memory adddress of the current object.\n",
    "* This variable is used to refer all the instance variable and methods."
   ]
  },
  {
   "cell_type": "markdown",
   "metadata": {},
   "source": [
    " _**constructor**_\n"
   ]
  },
  {
   "cell_type": "markdown",
   "metadata": {},
   "source": [
    "* Is used mostly for configration task in real world like sql or internet config\n",
    "\n",
    "* constructor are special member method of a class.\n",
    "\n",
    "* `__init__()` - magic methods or dunders"
   ]
  },
  {
   "cell_type": "code",
   "execution_count": 45,
   "metadata": {},
   "outputs": [
    {
     "name": "stdout",
     "output_type": "stream",
     "text": [
      "Hello from Constructor\n"
     ]
    }
   ],
   "source": [
    "class Cat:\n",
    "    \n",
    "    def __init__(self):\n",
    "        print(\"Hello from Constructor\")\n",
    "    \n",
    "C=Cat()"
   ]
  },
  {
   "cell_type": "code",
   "execution_count": 48,
   "metadata": {},
   "outputs": [
    {
     "name": "stdout",
     "output_type": "stream",
     "text": [
      "Hello from Constructor\n",
      "Tom\n"
     ]
    },
    {
     "data": {
      "text/plain": [
       "2"
      ]
     },
     "execution_count": 48,
     "metadata": {},
     "output_type": "execute_result"
    }
   ],
   "source": [
    "# parameterized constructor\n",
    "class Cat:\n",
    "        \n",
    "        def __init__(self, name, age):\n",
    "            print(\"Hello from Constructor\")\n",
    "            self.name = name\n",
    "            self.age = age\n",
    "c=Cat(\"Tom\", 2)\n",
    "print(c.name)\n",
    "c.age"
   ]
  },
  {
   "cell_type": "markdown",
   "metadata": {},
   "source": [
    "# Questions\n",
    "\n",
    "1. WAP to create a class to reverse a string word by word."
   ]
  },
  {
   "cell_type": "code",
   "execution_count": 58,
   "metadata": {},
   "outputs": [
    {
     "name": "stdout",
     "output_type": "stream",
     "text": [
      "natsikaP\n"
     ]
    }
   ],
   "source": [
    "class ReverseString():\n",
    "    def __init__(self, string):\n",
    "        self.string = string\n",
    "    def reverse(self):\n",
    "        print(self.string[::-1])\n",
    "\n",
    "r=ReverseString(\"Pakistan\")\n",
    "r.reverse()"
   ]
  },
  {
   "cell_type": "markdown",
   "metadata": {},
   "source": [
    "\n",
    "2. WAP to create a class that can calculate area of circle, rectangle, square and triangle."
   ]
  },
  {
   "cell_type": "code",
   "execution_count": 59,
   "metadata": {},
   "outputs": [],
   "source": [
    "class Area():\n",
    "    def __init__(self, length, width):\n",
    "        self.length = length\n",
    "        self.width = width\n",
    "    def area_circle(self):\n",
    "        print(\"Area of circle is:\", 3.14*self.length*self.width)\n",
    "    def area_rectangle(self):\n",
    "        print(\"Area of rectangle is:\", 0.5*self.length*self.width)\n",
    "    def area_square(self):\n",
    "        print(\"Area of square is:\", self.length*self.length)\n",
    "    def area_triangle(self):\n",
    "        print(\"Area of triangle is:\", 0.5*self.length*self.width)"
   ]
  },
  {
   "cell_type": "code",
   "execution_count": 61,
   "metadata": {},
   "outputs": [
    {
     "name": "stdout",
     "output_type": "stream",
     "text": [
      "Area of circle is: 628.0\n",
      "\n",
      "Area of rectangle is: 100.0\n",
      "\n",
      "Area of square is: 100\n",
      "\n",
      "Area of triangle is: 100.0\n"
     ]
    }
   ],
   "source": [
    "a=Area(10, 20)\n",
    "a.area_circle()\n",
    "print()\n",
    "a.area_rectangle()\n",
    "print()\n",
    "a.area_square()\n",
    "print()\n",
    "a.area_triangle()\n"
   ]
  },
  {
   "cell_type": "markdown",
   "metadata": {},
   "source": [
    "### **Magic method** :\n",
    "> is a method which is used to perform some operation on object of class \n"
   ]
  },
  {
   "cell_type": "markdown",
   "metadata": {},
   "source": [
    "> `__init__` is a special method in python classes. It is called a constructor in object oriented concepts. This method is called when an object is created from the class and it allows the class to initialize the attributes of a class.\n"
   ]
  },
  {
   "cell_type": "code",
   "execution_count": 27,
   "metadata": {},
   "outputs": [
    {
     "name": "stdout",
     "output_type": "stream",
     "text": [
      "10\n"
     ]
    }
   ],
   "source": [
    "# constructor \n",
    "class temp(object):\n",
    "    def __init__(self, a):\n",
    "        self.a = a\n",
    "    def display(self):\n",
    "        print(self.a)\n",
    "\n",
    "t=temp(10)\n",
    "t.display()"
   ]
  },
  {
   "cell_type": "code",
   "execution_count": 31,
   "metadata": {},
   "outputs": [
    {
     "name": "stdout",
     "output_type": "stream",
     "text": [
      "Parameterized Constructor\n",
      "10\n"
     ]
    }
   ],
   "source": [
    "# multiple constructor\n",
    "class tem(object):\n",
    "    def __init__(self):\n",
    "        print(\"Default Constructor\")\n",
    "    def __init__(self, a):\n",
    "        print(\"Parameterized Constructor\")\n",
    "        self.a = a\n",
    "    def display(self):\n",
    "        print(self.a)\n",
    "    \n",
    "\n",
    "t=tem(10)\n",
    "t.display()"
   ]
  },
  {
   "cell_type": "markdown",
   "metadata": {},
   "source": [
    "> #  **User define datatype**"
   ]
  },
  {
   "cell_type": "code",
   "execution_count": 48,
   "metadata": {},
   "outputs": [
    {
     "name": "stdout",
     "output_type": "stream",
     "text": [
      "Fractional value : 7/6\n"
     ]
    }
   ],
   "source": [
    "# user defined data type\n",
    "class Fraction(object):\n",
    "    def __init__(self, num, den):\n",
    "        self.num = num\n",
    "        self.den = den\n",
    "    def __str__(self) :\n",
    "        return \"Fractional value : {}/{}\".format(self.num, self.den)\n",
    "\n",
    "f=Fraction(7, 6)\n",
    "print(f)\n"
   ]
  },
  {
   "cell_type": "markdown",
   "metadata": {},
   "source": [
    "**Hint :** `__str__` is used to print object of class in string format "
   ]
  },
  {
   "cell_type": "code",
   "execution_count": 50,
   "metadata": {},
   "outputs": [
    {
     "name": "stdout",
     "output_type": "stream",
     "text": [
      "Fractional value : 1/2\n",
      "Fractional value : 3/4\n"
     ]
    }
   ],
   "source": [
    "f1=Fraction(1,2)\n",
    "f2=Fraction(3,4)\n",
    "print(f1)\n",
    "print(f2)"
   ]
  },
  {
   "cell_type": "code",
   "execution_count": 55,
   "metadata": {},
   "outputs": [
    {
     "name": "stdout",
     "output_type": "stream",
     "text": [
      "Fractional Addition  : 10/8\n",
      "Fractional Subtraction  : -2/8\n",
      "Fractional Multiplication  : 3/8\n",
      "Fractional Division  : 4/6\n"
     ]
    }
   ],
   "source": [
    "# Different operations in Fraction class\n",
    "class Fraction(object):\n",
    "    def __init__(self, num, den):\n",
    "        self.num = num\n",
    "        self.den = den\n",
    "    def __str__(self) :\n",
    "        return \"Fractional value : {}/{}\".format(self.num, self.den)\n",
    "\n",
    "    def __add__(self, other):\n",
    "        # return Fraction(self.num*other.den + self.den*other.num, self.den*other.den)\n",
    "         return \"Fractional Addition  : {}/{}\".format( self.num*other.den + self.den*other.num,\n",
    "                                                                self.den*other.den)\n",
    "                            \n",
    "    def __sub__(self,other):\n",
    "        return \"Fractional Subtraction  : {}/{}\".format( self.num*other.den - self.den*other.num,\n",
    "                                                                self.den*other.den)\n",
    "                                                            \n",
    "    def __mul__(self,other):\n",
    "        return \"Fractional Multiplication  : {}/{}\".format( self.num*other.num,\n",
    "                                                                self.den*other.den)\n",
    "\n",
    "    def __truediv__(self,other):\n",
    "        return \"Fractional Division  : {}/{}\".format( self.num*other.den,\n",
    "                                                                self.den*other.num)\n",
    "\n",
    "\n",
    "    \n",
    "f1=Fraction(1,2)\n",
    "f2=Fraction(3,4)\n",
    "print(f1+f2)\n",
    "print(f1-f2)\n",
    "print(f1*f2)\n",
    "print(f1/f2)\n"
   ]
  },
  {
   "cell_type": "markdown",
   "metadata": {},
   "source": [
    "> ---\n",
    "> ---\n",
    "> ---\n",
    "> ---"
   ]
  },
  {
   "cell_type": "markdown",
   "metadata": {},
   "source": [
    "#### **Variable can b created outside the class**"
   ]
  },
  {
   "cell_type": "code",
   "execution_count": 5,
   "metadata": {},
   "outputs": [
    {
     "name": "stdout",
     "output_type": "stream",
     "text": [
      "21\n"
     ]
    }
   ],
   "source": [
    "class Team:\n",
    "    def __init__(self):\n",
    "        self.name='usman'\n",
    "        self.age=21\n",
    "    \n",
    "# object creation\n",
    "t=Team()\n",
    "print(t.age)"
   ]
  },
  {
   "cell_type": "markdown",
   "metadata": {},
   "source": [
    "- What if we have to access gender variable, which is not in the class `Team`"
   ]
  },
  {
   "cell_type": "code",
   "execution_count": 6,
   "metadata": {},
   "outputs": [
    {
     "ename": "AttributeError",
     "evalue": "'Team' object has no attribute 'gender'",
     "output_type": "error",
     "traceback": [
      "\u001b[1;31m---------------------------------------------------------------------------\u001b[0m",
      "\u001b[1;31mAttributeError\u001b[0m                            Traceback (most recent call last)",
      "\u001b[1;32mc:\\Users\\HP\\OneDrive\\Desktop\\Complete DataScience\\Programming\\Python\\12_OOP\\02_class&objects.ipynb Cell 56\u001b[0m in \u001b[0;36m<cell line: 1>\u001b[1;34m()\u001b[0m\n\u001b[1;32m----> <a href='vscode-notebook-cell:/c%3A/Users/HP/OneDrive/Desktop/Complete%20DataScience/Programming/Python/12_OOP/02_class%26objects.ipynb#Y110sZmlsZQ%3D%3D?line=0'>1</a>\u001b[0m t\u001b[39m.\u001b[39;49mgender\n",
      "\u001b[1;31mAttributeError\u001b[0m: 'Team' object has no attribute 'gender'"
     ]
    }
   ],
   "source": [
    "t.gender"
   ]
  },
  {
   "cell_type": "markdown",
   "metadata": {},
   "source": [
    "- But we can create and assign a value to a variable outside the class using object of that classs"
   ]
  },
  {
   "cell_type": "code",
   "execution_count": 7,
   "metadata": {},
   "outputs": [],
   "source": [
    "t.gender='male'"
   ]
  },
  {
   "cell_type": "code",
   "execution_count": 8,
   "metadata": {},
   "outputs": [
    {
     "data": {
      "text/plain": [
       "'male'"
      ]
     },
     "execution_count": 8,
     "metadata": {},
     "output_type": "execute_result"
    }
   ],
   "source": [
    "t.gender"
   ]
  },
  {
   "cell_type": "markdown",
   "metadata": {},
   "source": [
    "### **Reference Variable**"
   ]
  },
  {
   "cell_type": "markdown",
   "metadata": {},
   "source": [
    "- Reference variable holds the object \n",
    "- We can create an object without reference variable\n",
    "  > `Person()`\n",
    "- An object can have multiple reference variable\n",
    "  >` p = Person() `\n",
    "  \n",
    "  > `q = p`\n",
    "- Assigning a new reference variable to an existing object does not create a new object"
   ]
  },
  {
   "cell_type": "code",
   "execution_count": 16,
   "metadata": {},
   "outputs": [
    {
     "name": "stdout",
     "output_type": "stream",
     "text": [
      "usman\n",
      "1918580618624\n",
      "1918580618624\n"
     ]
    }
   ],
   "source": [
    "class Person:\n",
    "    def __init__(self):\n",
    "        self.name=\"usman\"\n",
    "\n",
    "Person() # This will create an abject\n",
    "\n",
    "# Reference variable is used to store the reference/ Address of the that object \n",
    "p=Person()\n",
    "\n",
    "# Can have Multiple ref variable\n",
    "p=Person()\n",
    "q=p\n",
    "print(q.name)\n",
    "\n",
    "# You can see that boht variable point to a same memory address\n",
    "print(id(p))\n",
    "print(id(q))"
   ]
  },
  {
   "cell_type": "code",
   "execution_count": 17,
   "metadata": {},
   "outputs": [
    {
     "name": "stdout",
     "output_type": "stream",
     "text": [
      "usman\n",
      "usman\n"
     ]
    }
   ],
   "source": [
    "print(p.name)\n",
    "print(q.name)"
   ]
  },
  {
   "cell_type": "code",
   "execution_count": 20,
   "metadata": {},
   "outputs": [
    {
     "name": "stdout",
     "output_type": "stream",
     "text": [
      "usman javaid\n",
      "usman javaid\n"
     ]
    }
   ],
   "source": [
    "q.name=\"usman javaid\"\n",
    "\n",
    "# if you change the value of any ref variable,\n",
    "# It will change the both values as `p & q` Belongs to same memory address\n",
    "print(p.name)\n",
    "print(q.name)"
   ]
  },
  {
   "cell_type": "markdown",
   "metadata": {},
   "source": [
    "### **Pass by reference**"
   ]
  },
  {
   "cell_type": "markdown",
   "metadata": {},
   "source": [
    "- you can pass an object of a class into a function as an arguments "
   ]
  },
  {
   "cell_type": "code",
   "execution_count": 23,
   "metadata": {},
   "outputs": [
    {
     "name": "stdout",
     "output_type": "stream",
     "text": [
      "Hello, This is  usman  And I'm  21  Years old.\n"
     ]
    }
   ],
   "source": [
    "class Person:\n",
    "    def __init__(self):\n",
    "        self.name='usman'\n",
    "        self.age=21\n",
    "\n",
    "# Function outside the class\n",
    "def Greeting(self):\n",
    "    print(\"Hello, This is \",self.name,\" And I'm \",self.age,\" Years old.\")\n",
    "\n",
    "# object creation\n",
    "p=Person()\n",
    "Greeting(p) # Pass the reference of an Object into function outside the class\n",
    "\n",
    "############################\n",
    "      ### Note ###\n",
    "############################\n",
    "#  A function can also return the the object."
   ]
  },
  {
   "cell_type": "markdown",
   "metadata": {},
   "source": [
    "**`Objects of classes are Mutable`**"
   ]
  }
 ],
 "metadata": {
  "kernelspec": {
   "display_name": "Python 3.10.4 64-bit",
   "language": "python",
   "name": "python3"
  },
  "language_info": {
   "codemirror_mode": {
    "name": "ipython",
    "version": 3
   },
   "file_extension": ".py",
   "mimetype": "text/x-python",
   "name": "python",
   "nbconvert_exporter": "python",
   "pygments_lexer": "ipython3",
   "version": "3.10.4"
  },
  "orig_nbformat": 4,
  "vscode": {
   "interpreter": {
    "hash": "369f2c481f4da34e4445cda3fffd2e751bd1c4d706f27375911949ba6bb62e1c"
   }
  }
 },
 "nbformat": 4,
 "nbformat_minor": 2
}
