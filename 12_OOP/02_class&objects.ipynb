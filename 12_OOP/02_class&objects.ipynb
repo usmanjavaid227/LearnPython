{
 "cells": [
  {
   "cell_type": "markdown",
   "metadata": {},
   "source": [
    "# **Class & Objects**"
   ]
  },
  {
   "cell_type": "markdown",
   "metadata": {},
   "source": [
    "* Class is a group of attributes and methods. "
   ]
  },
  {
   "cell_type": "markdown",
   "metadata": {},
   "source": [
    "_**Attributes**_:\n",
    "* Attributes represented by Variables that contain data."
   ]
  },
  {
   "cell_type": "markdown",
   "metadata": {},
   "source": [
    "_**Methods**_:\n",
    "- Methods perform an action or task.It is similar to function."
   ]
  },
  {
   "cell_type": "markdown",
   "metadata": {},
   "source": [
    "## How to create `Class` "
   ]
  },
  {
   "cell_type": "code",
   "execution_count": null,
   "metadata": {},
   "outputs": [],
   "source": [
    "# class className(object):\n",
    "#     def __init__(self):\n",
    "#         self.variable_name=value\n",
    "#         self.variable_name=\"value\"\n",
    "#     def methodName(self):\n",
    "#          BodyOfMethod"
   ]
  },
  {
   "cell_type": "markdown",
   "metadata": {},
   "source": [
    "> `class` is a keyword used to create a class\n",
    "\n",
    "> `Object` is a class that is the base class for all classes. It is the root of the class hierarchy. Every class has object as a superclass. All built-in classes are derived from object, either directly or indirectly.\n",
    "\n",
    ">`__init__()` indicates that this is a constructor method. It is called when an object is created from the class and it allows the class to initialize the attributes of the class.\n",
    "\n",
    "> `self` is a reference to the current instance of the class and is used to access variables that belongs to the class."
   ]
  },
  {
   "cell_type": "markdown",
   "metadata": {},
   "source": [
    "**Rules**:\n",
    "- The class name can be any valid identifier.\n",
    "- It can't be python's reserved keywords.\n",
    "- Start with Capital letters generally."
   ]
  },
  {
   "cell_type": "markdown",
   "metadata": {},
   "source": [
    "i.e\n"
   ]
  },
  {
   "cell_type": "code",
   "execution_count": 12,
   "metadata": {},
   "outputs": [
    {
     "name": "stdout",
     "output_type": "stream",
     "text": [
      "Batting\n"
     ]
    }
   ],
   "source": [
    "class Cricket:\n",
    "    def bat(self):\n",
    "        print(\"Batting\")\n",
    "        \n",
    "c=Cricket() # object creation\n",
    "c.bat() # calling method\n"
   ]
  },
  {
   "cell_type": "markdown",
   "metadata": {},
   "source": [
    "`c` is an object  ->"
   ]
  },
  {
   "cell_type": "code",
   "execution_count": 13,
   "metadata": {},
   "outputs": [
    {
     "name": "stdout",
     "output_type": "stream",
     "text": [
      "<__main__.Cricket object at 0x000002377132CC10>\n"
     ]
    }
   ],
   "source": [
    "print(c)"
   ]
  },
  {
   "cell_type": "code",
   "execution_count": 14,
   "metadata": {},
   "outputs": [
    {
     "data": {
      "text/plain": [
       "2437145611280"
      ]
     },
     "execution_count": 14,
     "metadata": {},
     "output_type": "execute_result"
    }
   ],
   "source": [
    "id(c)"
   ]
  },
  {
   "cell_type": "markdown",
   "metadata": {},
   "source": [
    "-> `self` is a reference to the current instance of the class"
   ]
  },
  {
   "cell_type": "code",
   "execution_count": 17,
   "metadata": {},
   "outputs": [
    {
     "name": "stdout",
     "output_type": "stream",
     "text": [
      "1\n",
      "<__main__.Bowler object at 0x000002377132CA60>\n"
     ]
    }
   ],
   "source": [
    "class Bowler():\n",
    "    def bowl(self):\n",
    "        print(1)\n",
    "        print(self) # instance \n",
    "        \n",
    "b=Bowler()\n",
    "b.bowl()\n",
    "\n"
   ]
  },
  {
   "cell_type": "markdown",
   "metadata": {},
   "source": [
    "Another example :"
   ]
  },
  {
   "cell_type": "code",
   "execution_count": 18,
   "metadata": {},
   "outputs": [],
   "source": [
    "class Football:\n",
    "    \n",
    "    def goal(self, x):  \n",
    "        self.a = x      # class variable / class member / instance\n",
    "    \n",
    "    def display(self):\n",
    "        print(self.a)\n",
    "    \n",
    "f = Football()"
   ]
  },
  {
   "cell_type": "code",
   "execution_count": 23,
   "metadata": {},
   "outputs": [
    {
     "name": "stdout",
     "output_type": "stream",
     "text": [
      "10\n"
     ]
    }
   ],
   "source": [
    "f.goal(10)\n",
    "f.display()"
   ]
  },
  {
   "cell_type": "code",
   "execution_count": 25,
   "metadata": {},
   "outputs": [
    {
     "data": {
      "text/plain": [
       "10"
      ]
     },
     "execution_count": 25,
     "metadata": {},
     "output_type": "execute_result"
    }
   ],
   "source": [
    "f.a"
   ]
  },
  {
   "cell_type": "markdown",
   "metadata": {},
   "source": [
    "---"
   ]
  },
  {
   "cell_type": "code",
   "execution_count": null,
   "metadata": {},
   "outputs": [],
   "source": [
    "# class Cricketer:\n",
    "#     def __init__(self, name, age, country):\n",
    "#         print(\"Cricketer class constructor\")\n",
    "#         self.name = name\n",
    "#         self.age = age\n",
    "#         self.country = country\n",
    "#     def bat(self):\n",
    "#         print(\"Batting\")\n",
    "#     def bowl(self):\n",
    "#         print(\"Bowling\")\n",
    "#     def field(self):\n",
    "#         print(\"Fielding\")\n",
    "\n",
    "#     def display(self):\n",
    "#         print(\"Name:\", self.name)\n",
    "#         print(\"Age:\", self.age)\n",
    "#         print(\"Country:\", self.country)\n",
    "#         print(\"perfection in :\", self.bat())\n",
    "        \n",
    "\n",
    "\n",
    "# c=Cricketer(\"Babar\", 28, \"Pak\") # object creation\n",
    "# c.display() # calling method\n",
    "\n",
    "        "
   ]
  },
  {
   "cell_type": "markdown",
   "metadata": {},
   "source": [
    "_**Object**_"
   ]
  },
  {
   "cell_type": "markdown",
   "metadata": {},
   "source": [
    "+ Object is class type variable or class instance. \n",
    "+ To use a class, we should create an object to a class.\n",
    "+ It allocate the memory of an object.\n",
    "  "
   ]
  },
  {
   "cell_type": "markdown",
   "metadata": {},
   "source": [
    "i.e"
   ]
  },
  {
   "cell_type": "code",
   "execution_count": 33,
   "metadata": {},
   "outputs": [
    {
     "name": "stdout",
     "output_type": "stream",
     "text": [
      "University class constructor\n",
      "Name: PUGC\n"
     ]
    }
   ],
   "source": [
    "class University():\n",
    "    def __init__(self, name):\n",
    "        print(\"University class constructor\")\n",
    "        self.name = name\n",
    "\n",
    "    def display(self):\n",
    "        print(\"Name:\", self.name)\n",
    "\n",
    "U=University(\"PUGC\") # object creation\n",
    "U.display() # calling method"
   ]
  },
  {
   "cell_type": "code",
   "execution_count": 38,
   "metadata": {},
   "outputs": [
    {
     "name": "stdout",
     "output_type": "stream",
     "text": [
      "Mobile class constructor\n",
      "Name: Samsung\n",
      "Price: 10000\n",
      "------------------------------\n",
      "Mobile class constructor\n",
      "Name: oppo\n",
      "Price: 20000\n",
      "------------------------------\n"
     ]
    }
   ],
   "source": [
    "class Mobile():\n",
    "    def __init__(self, name, price):\n",
    "        print(\"Mobile class constructor\")\n",
    "        self.name = name\n",
    "        self.price = price\n",
    "\n",
    "    def display(self):\n",
    "        print(\"Name:\", self.name)\n",
    "        print(\"Price:\", self.price)\n",
    "        print(\"-\"*30)\n",
    "        \n",
    "m1=Mobile(\"Samsung\", 10000) # object creation\n",
    "m1.display() # calling method\n",
    "m2=Mobile(\"oppo\", 20000) # object creation\n",
    "m2.display() # calling method"
   ]
  },
  {
   "cell_type": "markdown",
   "metadata": {},
   "source": [
    "### _How Object works?_"
   ]
  },
  {
   "cell_type": "markdown",
   "metadata": {},
   "source": [
    "> ----\n",
    "> >A block of memory is allocated on heap.It's size depends on the attributes and methods available in the class.\n",
    "> \n",
    "> -----\n",
    ">> After allocating memory block, the constructor is called\n",
    "> \n",
    "> -----\n",
    "> > The allocated memory location address is returned into object.\n",
    "> \n",
    "> -----\n",
    "> > The memory location is passed to self.\n",
    "> \n",
    "> -----\n"
   ]
  },
  {
   "cell_type": "markdown",
   "metadata": {},
   "source": [
    "_**`Self`**_"
   ]
  },
  {
   "cell_type": "markdown",
   "metadata": {},
   "source": [
    "* `self` is a default variable that contains the memory adddress of the current object.\n",
    "* This variable is used to refer all the instance variable and methods."
   ]
  },
  {
   "cell_type": "markdown",
   "metadata": {},
   "source": [
    " _**constructor**_\n"
   ]
  },
  {
   "cell_type": "markdown",
   "metadata": {},
   "source": [
    "\n",
    "\n",
    "* constructor are special member method of a class.\n",
    "\n",
    "* `__init__()` - magic methods or dunders"
   ]
  },
  {
   "cell_type": "code",
   "execution_count": 45,
   "metadata": {},
   "outputs": [
    {
     "name": "stdout",
     "output_type": "stream",
     "text": [
      "Hello from Constructor\n"
     ]
    }
   ],
   "source": [
    "class Cat:\n",
    "    \n",
    "    def __init__(self):\n",
    "        print(\"Hello from Constructor\")\n",
    "    \n",
    "C=Cat()"
   ]
  },
  {
   "cell_type": "code",
   "execution_count": 48,
   "metadata": {},
   "outputs": [
    {
     "name": "stdout",
     "output_type": "stream",
     "text": [
      "Hello from Constructor\n",
      "Tom\n"
     ]
    },
    {
     "data": {
      "text/plain": [
       "2"
      ]
     },
     "execution_count": 48,
     "metadata": {},
     "output_type": "execute_result"
    }
   ],
   "source": [
    "# parameterized constructor\n",
    "class Cat:\n",
    "        \n",
    "        def __init__(self, name, age):\n",
    "            print(\"Hello from Constructor\")\n",
    "            self.name = name\n",
    "            self.age = age\n",
    "c=Cat(\"Tom\", 2)\n",
    "print(c.name)\n",
    "c.age"
   ]
  },
  {
   "cell_type": "markdown",
   "metadata": {},
   "source": [
    "# Questions\n",
    "\n",
    "1. WAP to create a class to reverse a string word by word."
   ]
  },
  {
   "cell_type": "code",
   "execution_count": 58,
   "metadata": {},
   "outputs": [
    {
     "name": "stdout",
     "output_type": "stream",
     "text": [
      "natsikaP\n"
     ]
    }
   ],
   "source": [
    "class ReverseString():\n",
    "    def __init__(self, string):\n",
    "        self.string = string\n",
    "    def reverse(self):\n",
    "        print(self.string[::-1])\n",
    "\n",
    "r=ReverseString(\"Pakistan\")\n",
    "r.reverse()"
   ]
  },
  {
   "cell_type": "markdown",
   "metadata": {},
   "source": [
    "\n",
    "2. WAP to create a class that can calculate area of circle, rectangle, square and triangle."
   ]
  },
  {
   "cell_type": "code",
   "execution_count": 59,
   "metadata": {},
   "outputs": [],
   "source": [
    "class Area():\n",
    "    def __init__(self, length, width):\n",
    "        self.length = length\n",
    "        self.width = width\n",
    "    def area_circle(self):\n",
    "        print(\"Area of circle is:\", 3.14*self.length*self.width)\n",
    "    def area_rectangle(self):\n",
    "        print(\"Area of rectangle is:\", 0.5*self.length*self.width)\n",
    "    def area_square(self):\n",
    "        print(\"Area of square is:\", self.length*self.length)\n",
    "    def area_triangle(self):\n",
    "        print(\"Area of triangle is:\", 0.5*self.length*self.width)"
   ]
  },
  {
   "cell_type": "code",
   "execution_count": 61,
   "metadata": {},
   "outputs": [
    {
     "name": "stdout",
     "output_type": "stream",
     "text": [
      "Area of circle is: 628.0\n",
      "\n",
      "Area of rectangle is: 100.0\n",
      "\n",
      "Area of square is: 100\n",
      "\n",
      "Area of triangle is: 100.0\n"
     ]
    }
   ],
   "source": [
    "a=Area(10, 20)\n",
    "a.area_circle()\n",
    "print()\n",
    "a.area_rectangle()\n",
    "print()\n",
    "a.area_square()\n",
    "print()\n",
    "a.area_triangle()\n"
   ]
  },
  {
   "cell_type": "markdown",
   "metadata": {},
   "source": [
    "---"
   ]
  }
 ],
 "metadata": {
  "kernelspec": {
   "display_name": "Python 3.10.4 64-bit",
   "language": "python",
   "name": "python3"
  },
  "language_info": {
   "codemirror_mode": {
    "name": "ipython",
    "version": 3
   },
   "file_extension": ".py",
   "mimetype": "text/x-python",
   "name": "python",
   "nbconvert_exporter": "python",
   "pygments_lexer": "ipython3",
   "version": "3.10.4"
  },
  "orig_nbformat": 4,
  "vscode": {
   "interpreter": {
    "hash": "369f2c481f4da34e4445cda3fffd2e751bd1c4d706f27375911949ba6bb62e1c"
   }
  }
 },
 "nbformat": 4,
 "nbformat_minor": 2
}
