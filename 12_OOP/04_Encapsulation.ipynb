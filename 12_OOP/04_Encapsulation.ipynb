{
 "cells": [
  {
   "cell_type": "markdown",
   "metadata": {},
   "source": [
    "# _**Encapsulation**_"
   ]
  },
  {
   "cell_type": "markdown",
   "metadata": {},
   "source": [
    "_Encapsulation is the process of wrapping up the data and methods in a single unit._"
   ]
  },
  {
   "cell_type": "markdown",
   "metadata": {},
   "source": [
    "- first we have to understande the concept of Instance variable"
   ]
  },
  {
   "cell_type": "code",
   "execution_count": 2,
   "metadata": {},
   "outputs": [],
   "source": [
    "# Instance variable : Variable whose value is different for each objects\n",
    "class Person:\n",
    "    def __init__(self,name):\n",
    "        self.name=name\n",
    "\n",
    "p1=Person(\"usman\")\n",
    "p2=Person('umair')"
   ]
  },
  {
   "cell_type": "code",
   "execution_count": 3,
   "metadata": {},
   "outputs": [
    {
     "name": "stdout",
     "output_type": "stream",
     "text": [
      "usman\n",
      "umair\n"
     ]
    }
   ],
   "source": [
    "print(p1.name)\n",
    "print(p2.name)\n",
    "# Hence, Instance value depends upon the object"
   ]
  },
  {
   "cell_type": "markdown",
   "metadata": {},
   "source": [
    "Imagine you create a class ATM and someone use your class by creating an Object, But problem is that in That ATM \n",
    "class you create a public data member like balance and pin.The person using this class can change the balance\n",
    "or pin of that class by the object of that class(Try to change the value of attributes of the class), \n",
    "Here comes the concept of Encapsulation."
   ]
  },
  {
   "cell_type": "markdown",
   "metadata": {},
   "source": [
    "To protect from this error you can use private data members "
   ]
  },
  {
   "cell_type": "code",
   "execution_count": 14,
   "metadata": {},
   "outputs": [
    {
     "name": "stdout",
     "output_type": "stream",
     "text": [
      "Withdrawn amount is  500\n",
      "Deposited amount is  1000\n",
      "Balance is  1500\n"
     ]
    }
   ],
   "source": [
    "class ATM:\n",
    "    __balance=0\n",
    "    def __init__(self,balance):\n",
    "        self.__balance=balance\n",
    "    def withdraw(self,amount):\n",
    "        self.__balance-=amount\n",
    "        print(\"Withdrawn amount is \",amount)\n",
    "    def deposit(self,amount):\n",
    "        self.__balance+=amount\n",
    "        print(\"Deposited amount is \",amount)\n",
    "    def checkBalance(self):\n",
    "        print(\"Balance is \",self.__balance)\n",
    "\n",
    "atm=ATM(1000)\n",
    "atm.withdraw(500)\n",
    "atm.deposit(1000)\n",
    "atm.checkBalance()\n",
    "# atm.__balance # This will give error as __balance is private variable\n"
   ]
  },
  {
   "cell_type": "code",
   "execution_count": 13,
   "metadata": {},
   "outputs": [
    {
     "ename": "AttributeError",
     "evalue": "'ATM' object has no attribute '__balance'",
     "output_type": "error",
     "traceback": [
      "\u001b[1;31m---------------------------------------------------------------------------\u001b[0m",
      "\u001b[1;31mAttributeError\u001b[0m                            Traceback (most recent call last)",
      "\u001b[1;32mc:\\Users\\HP\\OneDrive\\Desktop\\Complete DataScience\\Programming\\Python\\12_OOP\\04_Encapsulation.ipynb Cell 9\u001b[0m in \u001b[0;36m<cell line: 1>\u001b[1;34m()\u001b[0m\n\u001b[1;32m----> <a href='vscode-notebook-cell:/c%3A/Users/HP/OneDrive/Desktop/Complete%20DataScience/Programming/Python/12_OOP/04_Encapsulation.ipynb#X20sZmlsZQ%3D%3D?line=0'>1</a>\u001b[0m atm\u001b[39m.\u001b[39;49m__balance\n",
      "\u001b[1;31mAttributeError\u001b[0m: 'ATM' object has no attribute '__balance'"
     ]
    }
   ],
   "source": [
    "atm.__balance"
   ]
  },
  {
   "cell_type": "code",
   "execution_count": 15,
   "metadata": {},
   "outputs": [],
   "source": [
    "atm.__balance=10000 # This will create a new variable __balance in the object atm\n",
    "                    # and will not change the value of __balance in the class ATM "
   ]
  },
  {
   "cell_type": "code",
   "execution_count": 16,
   "metadata": {},
   "outputs": [
    {
     "data": {
      "text/plain": [
       "10000"
      ]
     },
     "execution_count": 16,
     "metadata": {},
     "output_type": "execute_result"
    }
   ],
   "source": [
    "atm.__balance # This will print the value of __balance in the object atm i.e. 10000"
   ]
  },
  {
   "cell_type": "markdown",
   "metadata": {},
   "source": [
    "- We use setter and getter method to access and modify the variables."
   ]
  },
  {
   "cell_type": "code",
   "execution_count": 2,
   "metadata": {},
   "outputs": [
    {
     "name": "stdout",
     "output_type": "stream",
     "text": [
      "******************************\n",
      "usman\n",
      "******************************\n"
     ]
    }
   ],
   "source": [
    "class std:\n",
    "    __name=\"\" # Private \n",
    "    def __init__(self):\n",
    "        self.__name=\"\"\n",
    "    def getname(self):\n",
    "        return self.__name\n",
    "    def setname(self, name):\n",
    "        self.__name = name\n",
    "\n",
    "print(\"*\"*30)\n",
    "obj=std()\n",
    "# obj.__name   => don't access as it is private\n",
    "obj.setname('usman')\n",
    "print(obj.getname())\n",
    "print(\"*\"*30)\n",
    "\n",
    "\n",
    "# encapsulation\n",
    "# encapsulation is the process of wrapping up the data and code in a single unit."
   ]
  },
  {
   "cell_type": "code",
   "execution_count": 11,
   "metadata": {},
   "outputs": [
    {
     "name": "stdout",
     "output_type": "stream",
     "text": [
      "Selling Price: 900\n",
      "Selling Price: 900\n",
      "Selling Price: 1000\n"
     ]
    }
   ],
   "source": [
    "class Computer:\n",
    "\n",
    "    def __init__(self):\n",
    "        self.__maxprice = 900\n",
    "\n",
    "    def sell(self):\n",
    "        print(\"Selling Price: {}\".format(self.__maxprice))\n",
    "\n",
    "    def setMaxPrice(self, price):\n",
    "        self.__maxprice = price\n",
    "\n",
    "c = Computer()\n",
    "c.sell()\n",
    "\n",
    "# change the price\n",
    "c.__maxprice = 1000 # change the price but it will not change the price  in class\n",
    "c.sell()\n",
    "\n",
    "# using setter function\n",
    "c.setMaxPrice(1000)\n",
    "c.sell()"
   ]
  },
  {
   "cell_type": "markdown",
   "metadata": {},
   "source": [
    "In the above program, we defined a Computer class.\n",
    "\n",
    "We used `__init__()` method to store the maximum selling price of Computer. Here, notice the code\n",
    "\n",
    ">`c.__maxprice = 1000`\n",
    "\n",
    "Here, we have tried to modify the value of __maxprice outside of the class. However, since __maxprice is a private variable, this modification is not seen on the output.\n",
    "\n",
    "As shown, to change the value, we have to use a setter function i.e setMaxPrice() which takes price as a parameter."
   ]
  },
  {
   "cell_type": "code",
   "execution_count": 1,
   "metadata": {},
   "outputs": [
    {
     "name": "stdout",
     "output_type": "stream",
     "text": [
      "Enter your account details :\n",
      "******************************\n",
      "Press 1 to deposit amount :\n",
      "Press 2 to withdraw amount :\n",
      "Press 3 to display balance :\n",
      "Press 4 to exit :\n",
      "******************************\n",
      "******************************\n",
      "Press 1 to deposit amount :\n",
      "Press 2 to withdraw amount :\n",
      "Press 3 to display balance :\n",
      "Press 4 to exit :\n",
      "******************************\n",
      "Your balance is : 10300\n",
      "******************************\n",
      "Press 1 to deposit amount :\n",
      "Press 2 to withdraw amount :\n",
      "Press 3 to display balance :\n",
      "Press 4 to exit :\n",
      "******************************\n"
     ]
    },
    {
     "ename": "SystemExit",
     "evalue": "",
     "output_type": "error",
     "traceback": [
      "An exception has occurred, use %tb to see the full traceback.\n",
      "\u001b[1;31mSystemExit\u001b[0m\n"
     ]
    },
    {
     "name": "stderr",
     "output_type": "stream",
     "text": [
      "c:\\Python310\\lib\\site-packages\\IPython\\core\\interactiveshell.py:3406: UserWarning: To exit: use 'exit', 'quit', or Ctrl-D.\n",
      "  warn(\"To exit: use 'exit', 'quit', or Ctrl-D.\", stacklevel=1)\n"
     ]
    }
   ],
   "source": [
    "import sys\n",
    "class bank:\n",
    "    def __init__(self): #constructor\n",
    "        print(\"Enter your account details :\") \n",
    "        self.__account_no= int(input(\"Enter account number : \"))\n",
    "        self.__balance= int(input(\"Enter  balance : \"))\n",
    "    def deposit(self):\n",
    "        self.amount= int(input(\"Enter amount that you want to deposit :\"))\n",
    "        self.__balance = self.__balance+self.amount\n",
    "    def withdraw(self):\n",
    "        self.withdraw= int(input(\"Enter withdraw amount that you want to withdraw :\"))\n",
    "        self.__balance=self.__balance-self.withdraw\n",
    "    def display(self):\n",
    "        print(\"Your balance is :\", self.__balance)     \n",
    "\n",
    "\n",
    "\n",
    "b1=bank()\n",
    "while True:\n",
    "    print(\"*\"*30) \n",
    "    \n",
    "    # b1.input()\n",
    "    print(\"Press 1 to deposit amount :\") \n",
    "    print(\"Press 2 to withdraw amount :\")\n",
    "    print(\"Press 3 to display balance :\") \n",
    "    print(\"Press 4 to exit :\") \n",
    "    print(\"*\"*30)\n",
    "    number= int(input(\"Enter your choice :\"))\n",
    " \n",
    "    if number ==1:\n",
    "        b1.deposit()\n",
    "    elif number ==2:\n",
    "        b1.withdraw()\n",
    "    elif number ==3:\n",
    "        b1.display()\n",
    "    elif number ==4:\n",
    "        sys.exit()\n",
    "    else:\n",
    "        print(\"Invalid choice\")"
   ]
  },
  {
   "cell_type": "code",
   "execution_count": 17,
   "metadata": {},
   "outputs": [
    {
     "name": "stdout",
     "output_type": "stream",
     "text": [
      "Name: John Age: 20\n",
      "Name: David Age: 21\n"
     ]
    }
   ],
   "source": [
    "# another example\n",
    "class Student:\n",
    "    def __init__(self, name, age):\n",
    "        self.__name = name\n",
    "        self.__age = age\n",
    "\n",
    "    def get_name(self):\n",
    "        return self.__name\n",
    "\n",
    "    def get_age(self):\n",
    "        return self.__age\n",
    "\n",
    "    def set_name(self, name):\n",
    "        self.__name = name\n",
    "\n",
    "    def set_age(self, age):\n",
    "        self.__age = age\n",
    "\n",
    "    def __str__(self):\n",
    "        return \"Name: \" + self.__name + \" Age: \" + str(self.__age)\n",
    "\n",
    "s = Student(\"John\", 20)\n",
    "print(s)\n",
    "s.set_name(\"David\")\n",
    "s.set_age(21)\n",
    "print(s)"
   ]
  },
  {
   "cell_type": "markdown",
   "metadata": {},
   "source": [
    "## **Static Variable**"
   ]
  },
  {
   "cell_type": "code",
   "execution_count": null,
   "metadata": {},
   "outputs": [],
   "source": [
    "# static variable : Variable whose value is same in class for each object --> class\n",
    "# Instance variable : Variable whose value is different for each objects  --> Object"
   ]
  },
  {
   "cell_type": "markdown",
   "metadata": {},
   "source": [
    "- Remember that when we use static variable, we use class name not the object's ref"
   ]
  },
  {
   "cell_type": "code",
   "execution_count": 45,
   "metadata": {},
   "outputs": [
    {
     "name": "stdout",
     "output_type": "stream",
     "text": [
      "usman\n"
     ]
    },
    {
     "data": {
      "text/plain": [
       "'PUGC'"
      ]
     },
     "execution_count": 45,
     "metadata": {},
     "output_type": "execute_result"
    }
   ],
   "source": [
    "class Student:\n",
    "    __Uni=\"PUGC\" # static variable of the class\n",
    "\n",
    "    def __init__(self,name):\n",
    "        self.name=name\n",
    "        \n",
    "    @staticmethod    # utility method\n",
    "    def get_uni():\n",
    "        return Student.__Uni\n",
    "\n",
    "\n",
    "p1=Person(\"usman\")\n",
    "p2=Person('umair')\n",
    "\n",
    "print(p1.name)\n",
    "Student.get_uni() # you can access the static method by using the class_name.static_fn"
   ]
  },
  {
   "cell_type": "code",
   "execution_count": 16,
   "metadata": {},
   "outputs": [
    {
     "name": "stdout",
     "output_type": "stream",
     "text": [
      "usman\n",
      "umair\n",
      "ali\n",
      "3\n"
     ]
    }
   ],
   "source": [
    "# static variable example\n",
    "class Student:\n",
    "\n",
    "    __total_student=0 # static variable of the class\n",
    "\n",
    "    def __init__(self,name):\n",
    "        self.name=name\n",
    "        Student.__total_student+=1\n",
    "\n",
    "    @staticmethod    \n",
    "    def get_total_student():\n",
    "        return Student.__total_student\n",
    "\n",
    "p1=Student(\"usman\")\n",
    "p2=Student('umair')\n",
    "p3=Student('ali')\n",
    "\n",
    "print(p1.name)\n",
    "print(p2.name)\n",
    "print(p3.name)\n",
    "print(Student.get_total_student())\n",
    "\n"
   ]
  },
  {
   "cell_type": "markdown",
   "metadata": {},
   "source": [
    "---"
   ]
  }
 ],
 "metadata": {
  "kernelspec": {
   "display_name": "Python 3.10.4 64-bit",
   "language": "python",
   "name": "python3"
  },
  "language_info": {
   "codemirror_mode": {
    "name": "ipython",
    "version": 3
   },
   "file_extension": ".py",
   "mimetype": "text/x-python",
   "name": "python",
   "nbconvert_exporter": "python",
   "pygments_lexer": "ipython3",
   "version": "3.10.4"
  },
  "orig_nbformat": 4,
  "vscode": {
   "interpreter": {
    "hash": "369f2c481f4da34e4445cda3fffd2e751bd1c4d706f27375911949ba6bb62e1c"
   }
  }
 },
 "nbformat": 4,
 "nbformat_minor": 2
}
