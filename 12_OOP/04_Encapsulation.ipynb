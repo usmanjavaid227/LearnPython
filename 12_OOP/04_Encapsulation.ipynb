{
 "cells": [
  {
   "cell_type": "markdown",
   "metadata": {},
   "source": [
    "# _**Encapsulation**_"
   ]
  },
  {
   "cell_type": "markdown",
   "metadata": {},
   "source": [
    "Encapsulation is the process of hiding the implementation details from the user\\\n",
    " and only showing the functionality to the user. "
   ]
  },
  {
   "cell_type": "markdown",
   "metadata": {},
   "source": [
    "- We use setter and getter method to access and modify the variables."
   ]
  },
  {
   "cell_type": "code",
   "execution_count": 2,
   "metadata": {},
   "outputs": [
    {
     "name": "stdout",
     "output_type": "stream",
     "text": [
      "******************************\n",
      "usman\n",
      "******************************\n"
     ]
    }
   ],
   "source": [
    "class std:\n",
    "    __name=\"\" # Private \n",
    "    def __init__(self):\n",
    "        self.__name=\"\"\n",
    "    def getname(self):\n",
    "        return self.__name\n",
    "    def setname(self, name):\n",
    "        self.__name = name\n",
    "\n",
    "print(\"*\"*30)\n",
    "obj=std()\n",
    "# obj.__name   => don't access as it is private\n",
    "obj.setname('usman')\n",
    "print(obj.getname())\n",
    "print(\"*\"*30)\n",
    "\n",
    "\n",
    "# encapsulation\n",
    "# encapsulation is the process of wrapping up the data and code in a single unit."
   ]
  },
  {
   "cell_type": "code",
   "execution_count": 11,
   "metadata": {},
   "outputs": [
    {
     "name": "stdout",
     "output_type": "stream",
     "text": [
      "Selling Price: 900\n",
      "Selling Price: 900\n",
      "Selling Price: 1000\n"
     ]
    }
   ],
   "source": [
    "class Computer:\n",
    "\n",
    "    def __init__(self):\n",
    "        self.__maxprice = 900\n",
    "\n",
    "    def sell(self):\n",
    "        print(\"Selling Price: {}\".format(self.__maxprice))\n",
    "\n",
    "    def setMaxPrice(self, price):\n",
    "        self.__maxprice = price\n",
    "\n",
    "c = Computer()\n",
    "c.sell()\n",
    "\n",
    "# change the price\n",
    "c.__maxprice = 1000 # change the price but it will not change the price \n",
    "c.sell()\n",
    "\n",
    "# using setter function\n",
    "c.setMaxPrice(1000)\n",
    "c.sell()"
   ]
  },
  {
   "cell_type": "markdown",
   "metadata": {},
   "source": [
    "In the above program, we defined a Computer class.\n",
    "\n",
    "We used `__init__()` method to store the maximum selling price of Computer. Here, notice the code\n",
    "\n",
    ">`c.__maxprice = 1000`\n",
    "\n",
    "Here, we have tried to modify the value of __maxprice outside of the class. However, since __maxprice is a private variable, this modification is not seen on the output.\n",
    "\n",
    "As shown, to change the value, we have to use a setter function i.e setMaxPrice() which takes price as a parameter."
   ]
  },
  {
   "cell_type": "code",
   "execution_count": 1,
   "metadata": {},
   "outputs": [
    {
     "name": "stdout",
     "output_type": "stream",
     "text": [
      "Enter your account details :\n",
      "******************************\n",
      "Press 1 to deposit amount :\n",
      "Press 2 to withdraw amount :\n",
      "Press 3 to display balance :\n",
      "Press 4 to exit :\n",
      "******************************\n",
      "Your balance is : 2000\n",
      "******************************\n",
      "Press 1 to deposit amount :\n",
      "Press 2 to withdraw amount :\n",
      "Press 3 to display balance :\n",
      "Press 4 to exit :\n",
      "******************************\n"
     ]
    },
    {
     "ename": "SystemExit",
     "evalue": "",
     "output_type": "error",
     "traceback": [
      "An exception has occurred, use %tb to see the full traceback.\n",
      "\u001b[1;31mSystemExit\u001b[0m\n"
     ]
    },
    {
     "name": "stderr",
     "output_type": "stream",
     "text": [
      "c:\\Python310\\lib\\site-packages\\IPython\\core\\interactiveshell.py:3406: UserWarning: To exit: use 'exit', 'quit', or Ctrl-D.\n",
      "  warn(\"To exit: use 'exit', 'quit', or Ctrl-D.\", stacklevel=1)\n"
     ]
    }
   ],
   "source": [
    "import sys\n",
    "class bank:\n",
    "    def __init__(self): #constructor\n",
    "        print(\"Enter your account details :\") \n",
    "        self.__account_no= int(input(\"Enter account number : \"))\n",
    "        self.__balance= int(input(\"Enter  balance : \"))\n",
    "    def diposit(self):\n",
    "        self.amount= int(input(\"Enter amount that you want to deposit :\"))\n",
    "        self.__balance = self.__balance+self.amount\n",
    "    def withdraw(self):\n",
    "        self.withdraw= int(input(\"Enter withdraw amount that you want to withdraw :\"))\n",
    "        self.__balance=self.__balance-self.withdraw\n",
    "    def display(self):\n",
    "        print(\"Your balance is :\", self.__balance)     \n",
    "\n",
    "\n",
    "\n",
    "b1=bank()\n",
    "while True:\n",
    "    print(\"*\"*30) \n",
    "    \n",
    "    # b1.input()\n",
    "    print(\"Press 1 to deposit amount :\") \n",
    "    print(\"Press 2 to withdraw amount :\")\n",
    "    print(\"Press 3 to display balance :\") \n",
    "    print(\"Press 4 to exit :\") \n",
    "    print(\"*\"*30)\n",
    "    number= int(input(\"Enter your choice :\"))\n",
    " \n",
    "    if number ==1:\n",
    "        b1.diposit()\n",
    "    elif number ==2:\n",
    "        b1.withdraw()\n",
    "    elif number ==3:\n",
    "        b1.display()\n",
    "    elif number ==4:\n",
    "        sys.exit()\n",
    "    else:\n",
    "        print(\"Invalid choice\")"
   ]
  },
  {
   "cell_type": "markdown",
   "metadata": {},
   "source": [
    "---"
   ]
  }
 ],
 "metadata": {
  "kernelspec": {
   "display_name": "Python 3.10.4 64-bit",
   "language": "python",
   "name": "python3"
  },
  "language_info": {
   "codemirror_mode": {
    "name": "ipython",
    "version": 3
   },
   "file_extension": ".py",
   "mimetype": "text/x-python",
   "name": "python",
   "nbconvert_exporter": "python",
   "pygments_lexer": "ipython3",
   "version": "3.10.4"
  },
  "orig_nbformat": 4,
  "vscode": {
   "interpreter": {
    "hash": "369f2c481f4da34e4445cda3fffd2e751bd1c4d706f27375911949ba6bb62e1c"
   }
  }
 },
 "nbformat": 4,
 "nbformat_minor": 2
}
