{
 "cells": [
  {
   "cell_type": "markdown",
   "metadata": {},
   "source": [
    "\n",
    "# _**Polymorphism**_"
   ]
  },
  {
   "cell_type": "markdown",
   "metadata": {},
   "source": [
    "- Method overloading\n",
    "- Method overriding\n",
    "- operator overloading"
   ]
  },
  {
   "cell_type": "markdown",
   "metadata": {},
   "source": [
    "_**Overloading**_"
   ]
  },
  {
   "cell_type": "markdown",
   "metadata": {},
   "source": [
    "+ same name, different parameters (number, type, order)"
   ]
  },
  {
   "cell_type": "code",
   "execution_count": 1,
   "metadata": {},
   "outputs": [
    {
     "name": "stdout",
     "output_type": "stream",
     "text": [
      "6\n"
     ]
    }
   ],
   "source": [
    "def play(a,b):\n",
    "    print(a)\n",
    "    print(b)\n",
    "    \n",
    "def play(x,y,z):\n",
    "    print(x + y + z)\n",
    "\n",
    "play(1,2,3)\n"
   ]
  },
  {
   "cell_type": "code",
   "execution_count": 1,
   "metadata": {},
   "outputs": [
    {
     "name": "stdout",
     "output_type": "stream",
     "text": [
      "usman javaid\n",
      "usman javaid Mughal\n"
     ]
    }
   ],
   "source": [
    "# Overloading this method\n",
    "class A:\n",
    "    def display(self,name=\"\"):\n",
    "        print(\"usman javaid\"+name)\n",
    "\n",
    "o=A()\n",
    "o.display()\n",
    "o.display(\" Mughal\")"
   ]
  },
  {
   "cell_type": "code",
   "execution_count": 40,
   "metadata": {},
   "outputs": [
    {
     "name": "stdout",
     "output_type": "stream",
     "text": [
      "Area of Square is: 25\n",
      "Area of Rectangle is: 15\n"
     ]
    }
   ],
   "source": [
    "class Shape:\n",
    "    # function with two default parameters\n",
    "    def area(self, a, b=0):\n",
    "        if b > 0:\n",
    "            print('Area of Rectangle is:', a * b)\n",
    "        else:\n",
    "            print('Area of Square is:', a ** 2)\n",
    "\n",
    "square = Shape()\n",
    "square.area(5)\n",
    "\n",
    "rectangle = Shape()\n",
    "rectangle.area(5, 3)\n"
   ]
  },
  {
   "cell_type": "markdown",
   "metadata": {},
   "source": [
    "_**Overriding**_"
   ]
  },
  {
   "cell_type": "code",
   "execution_count": 2,
   "metadata": {},
   "outputs": [
    {
     "name": "stdout",
     "output_type": "stream",
     "text": [
      "A\n",
      "B\n"
     ]
    }
   ],
   "source": [
    "# method overriding : when a child class has a method with same name as parent class method\n",
    "class A():\n",
    "    def display(self):\n",
    "        print(\"A\")\n",
    "class B(A):\n",
    "    def display(self):\n",
    "        super().display()\n",
    "        print(\"B\")\n",
    "\n",
    "o=B()\n",
    "o.display()"
   ]
  },
  {
   "cell_type": "code",
   "execution_count": 37,
   "metadata": {},
   "outputs": [
    {
     "name": "stdout",
     "output_type": "stream",
     "text": [
      "show A\n",
      "show B\n"
     ]
    }
   ],
   "source": [
    "class A:\n",
    "    \n",
    "    def show(self):\n",
    "        print(\"show A\")\n",
    "    \n",
    "class B(A):\n",
    "        # super() is used to call the parent class\n",
    "    def show(self):\n",
    "        super().show()\n",
    "        print(\"show B\")\n",
    "    \n",
    "\n",
    "\n",
    "z = B()\n",
    "\n",
    "z.show()"
   ]
  },
  {
   "cell_type": "markdown",
   "metadata": {},
   "source": [
    "#### **operator overloading:**"
   ]
  },
  {
   "cell_type": "code",
   "execution_count": null,
   "metadata": {},
   "outputs": [],
   "source": [
    "# when a operator is overloaded to perform different operations on different types of data \n",
    "# for example + operator is used to add two numbers and concatenate two strings\n",
    "# this is called operator overloading"
   ]
  },
  {
   "cell_type": "code",
   "execution_count": 3,
   "metadata": {},
   "outputs": [
    {
     "name": "stdout",
     "output_type": "stream",
     "text": [
      "3\n",
      "usman javaid\n"
     ]
    }
   ],
   "source": [
    "print(1+2) # addition\n",
    "print(\"usman\"+\" javaid\") # concatenation"
   ]
  },
  {
   "cell_type": "markdown",
   "metadata": {},
   "source": [
    "* **Polymorphism** in Python is the ability of an object to take many forms. In simple words, polymorphism allows us to perform the same action in many different ways."
   ]
  },
  {
   "cell_type": "markdown",
   "metadata": {},
   "source": [
    "* Polymorphism in Built-in function len()\n",
    "* The built-in function len() calculates the length of an object depending upon its type. If an object is a string, it returns the count of characters, and If an object is a list, it returns the count of items in a list."
   ]
  },
  {
   "cell_type": "code",
   "execution_count": 39,
   "metadata": {},
   "outputs": [
    {
     "name": "stdout",
     "output_type": "stream",
     "text": [
      "5\n",
      "3\n"
     ]
    }
   ],
   "source": [
    "x=\"usman\"\n",
    "y=[1,2,3]\n",
    "print(len(x))\n",
    "print(len(y))"
   ]
  },
  {
   "cell_type": "markdown",
   "metadata": {},
   "source": [
    "i.e"
   ]
  },
  {
   "cell_type": "code",
   "execution_count": 38,
   "metadata": {},
   "outputs": [
    {
     "name": "stdout",
     "output_type": "stream",
     "text": [
      "Petrol\n",
      "Max speed 350\n",
      "Diesel\n",
      "Max speed is 240\n"
     ]
    }
   ],
   "source": [
    "class Ferrari:\n",
    "    def fuel_type(self):\n",
    "        print(\"Petrol\")\n",
    "\n",
    "    def max_speed(self):\n",
    "        print(\"Max speed 350\")\n",
    "\n",
    "class BMW:\n",
    "    def fuel_type(self):\n",
    "        print(\"Diesel\")\n",
    "\n",
    "    def max_speed(self):\n",
    "        print(\"Max speed is 240\")\n",
    "\n",
    "ferrari = Ferrari()\n",
    "bmw = BMW()\n",
    "\n",
    "# iterate objects of same type\n",
    "for car in (ferrari, bmw):\n",
    "    # call methods without checking class of object\n",
    "    car.fuel_type()\n",
    "    car.max_speed()"
   ]
  },
  {
   "cell_type": "code",
   "execution_count": 4,
   "metadata": {},
   "outputs": [
    {
     "name": "stdout",
     "output_type": "stream",
     "text": [
      "B\n",
      "D\n"
     ]
    }
   ],
   "source": [
    "\n",
    "class A:\n",
    "    def display(self):\n",
    "        print(\"A\")\n",
    "class B(A):\n",
    "    def display(self):\n",
    "        print(\"B\")\n",
    "class C(A):\n",
    "    def display(self):\n",
    "        print(\"C\")\n",
    "class D(B,C):\n",
    "    def display(self):\n",
    "        super().display()\n",
    "        print(\"D\")\n",
    "\n",
    "o=D()\n",
    "o.display()"
   ]
  },
  {
   "cell_type": "markdown",
   "metadata": {},
   "source": [
    "................................................................................................................................................................................................................................................................................................"
   ]
  }
 ],
 "metadata": {
  "kernelspec": {
   "display_name": "Python 3.10.4 64-bit",
   "language": "python",
   "name": "python3"
  },
  "language_info": {
   "codemirror_mode": {
    "name": "ipython",
    "version": 3
   },
   "file_extension": ".py",
   "mimetype": "text/x-python",
   "name": "python",
   "nbconvert_exporter": "python",
   "pygments_lexer": "ipython3",
   "version": "3.10.4"
  },
  "orig_nbformat": 4,
  "vscode": {
   "interpreter": {
    "hash": "369f2c481f4da34e4445cda3fffd2e751bd1c4d706f27375911949ba6bb62e1c"
   }
  }
 },
 "nbformat": 4,
 "nbformat_minor": 2
}
