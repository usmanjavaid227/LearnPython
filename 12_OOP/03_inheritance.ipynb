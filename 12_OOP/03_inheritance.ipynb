{
 "cells": [
  {
   "cell_type": "markdown",
   "metadata": {},
   "source": [
    "# _**Inheritance**_"
   ]
  },
  {
   "cell_type": "markdown",
   "metadata": {},
   "source": [
    "* Acquiring properties of one class into another.\n",
    "* Inheritance is the mechanism of deriving a new class from an old one(exciting class) such that  new class inherit all the Properties of old class.\n",
    "* Inheritance is a way to form new classes using classes that have already been defined. \n",
    "\n",
    "1. single level\n",
    "2. multilevel \n",
    "3. hierarchical \n",
    "4. multiple\n",
    "5. hybrid"
   ]
  },
  {
   "cell_type": "markdown",
   "metadata": {},
   "source": [
    "_**Single Inheritance**_"
   ]
  },
  {
   "cell_type": "code",
   "execution_count": 6,
   "metadata": {},
   "outputs": [
    {
     "name": "stdout",
     "output_type": "stream",
     "text": [
      "This is Add from class A\n",
      "This is Add from class A\n",
      "\n",
      "This is sub from class B\n"
     ]
    }
   ],
   "source": [
    "class Windows7:            # parent class / super class / base class\n",
    "    def add(self):\n",
    "        print(\"This is Add from class A\")\n",
    "        \n",
    "class Windows10(Windows7): # child class / sub class / derived class\n",
    "    def sub(self):\n",
    "        print(\"This is sub from class B\")\n",
    "\n",
    "x = Windows7()\n",
    "y = Windows10()\n",
    "\n",
    "x.add()\n",
    "y.add()\n",
    "\n",
    "print()\n",
    "\n",
    "y.sub()"
   ]
  },
  {
   "cell_type": "code",
   "execution_count": 7,
   "metadata": {},
   "outputs": [
    {
     "ename": "AttributeError",
     "evalue": "'Windows7' object has no attribute 'sub'",
     "output_type": "error",
     "traceback": [
      "\u001b[1;31m---------------------------------------------------------------------------\u001b[0m",
      "\u001b[1;31mAttributeError\u001b[0m                            Traceback (most recent call last)",
      "\u001b[1;32mc:\\Users\\HP\\OneDrive\\Desktop\\Day 7\\03_inheritance.ipynb Cell 4\u001b[0m in \u001b[0;36m<cell line: 1>\u001b[1;34m()\u001b[0m\n\u001b[1;32m----> <a href='vscode-notebook-cell:/c%3A/Users/HP/OneDrive/Desktop/Day%207/03_inheritance.ipynb#W4sZmlsZQ%3D%3D?line=0'>1</a>\u001b[0m x\u001b[39m.\u001b[39;49msub()\n",
      "\u001b[1;31mAttributeError\u001b[0m: 'Windows7' object has no attribute 'sub'"
     ]
    }
   ],
   "source": [
    "x.sub()"
   ]
  },
  {
   "cell_type": "code",
   "execution_count": 8,
   "metadata": {},
   "outputs": [
    {
     "name": "stdout",
     "output_type": "stream",
     "text": [
      "This is sub from class B\n"
     ]
    }
   ],
   "source": [
    "y.sub()"
   ]
  },
  {
   "cell_type": "code",
   "execution_count": 11,
   "metadata": {},
   "outputs": [
    {
     "name": "stdout",
     "output_type": "stream",
     "text": [
      "This is Son\n",
      "Property of Son\n",
      "Property of Father\n"
     ]
    }
   ],
   "source": [
    "# example 2\n",
    "class Father:\n",
    "    def PropertyOfFather(self):\n",
    "        print(\"Property of Father\")\n",
    "# inheritance\n",
    "class Son(Father):\n",
    "    def PropertyOfSon(self):\n",
    "        print(\"Property of Son\")\n",
    "################################################################################################\n",
    "s=Son()\n",
    "s.PropertyOfSon()    # Property of Son\n",
    "s.PropertyOfFather()    # Property of Father"
   ]
  },
  {
   "cell_type": "code",
   "execution_count": 15,
   "metadata": {},
   "outputs": [
    {
     "name": "stdout",
     "output_type": "stream",
     "text": [
      "Init A\n",
      "Init B\n"
     ]
    }
   ],
   "source": [
    "class A:\n",
    "    def __init__(self):\n",
    "        print(\"Init A\")\n",
    "    \n",
    "    def add(self):\n",
    "        print(\"Add A\")\n",
    "    \n",
    "class B(A):\n",
    "    def __init__(self):\n",
    "        print(\"Init B\")\n",
    "    \n",
    "    def sub(self):\n",
    "        print(\"Sub B\")\n",
    "    \n",
    "x = A()\n",
    "y = B()"
   ]
  },
  {
   "cell_type": "code",
   "execution_count": 16,
   "metadata": {},
   "outputs": [
    {
     "name": "stdout",
     "output_type": "stream",
     "text": [
      "Init A\n",
      "Init A\n",
      "Init B\n"
     ]
    }
   ],
   "source": [
    "class A:\n",
    "    def __init__(self):\n",
    "        print(\"Init A\")\n",
    "    \n",
    "    def add(self):\n",
    "        print(\"Add A\")\n",
    "    \n",
    "class B(A):\n",
    "    def __init__(self):\n",
    "        A.__init__(self)\n",
    "        print(\"Init B\")\n",
    "    \n",
    "    def sub(self):\n",
    "        print(\"Sub B\")\n",
    "    \n",
    "x = A()\n",
    "y = B()"
   ]
  },
  {
   "cell_type": "markdown",
   "metadata": {},
   "source": [
    "_**Multilevel Inheritance**_"
   ]
  },
  {
   "cell_type": "code",
   "execution_count": 20,
   "metadata": {},
   "outputs": [
    {
     "name": "stdout",
     "output_type": "stream",
     "text": [
      "Init A\n",
      "Init B\n",
      "Init C\n"
     ]
    }
   ],
   "source": [
    "#Multilevel Inheritance\n",
    "class A:\n",
    "    def __init__(self):\n",
    "        print(\"Init A\")\n",
    "class B(A):\n",
    "    def __init__(self):\n",
    "        print(\"Init B\")\n",
    "class C(B):\n",
    "    def __init__(self):\n",
    "        A.__init__(self)\n",
    "        B.__init__(self)\n",
    "        print(\"Init C\")\n",
    "\n",
    "x = C()"
   ]
  },
  {
   "cell_type": "code",
   "execution_count": 21,
   "metadata": {},
   "outputs": [
    {
     "name": "stdout",
     "output_type": "stream",
     "text": [
      "Show C\n",
      "Sub B\n",
      "Add A\n"
     ]
    }
   ],
   "source": [
    "class A:\n",
    "    def add(self):\n",
    "        print(\"Add A\")\n",
    "    \n",
    "class B(A):\n",
    "    def sub(self):\n",
    "        print(\"Sub B\")\n",
    "    \n",
    "class C(B):\n",
    "    def show(self):\n",
    "        print(\"Show C\")\n",
    "    \n",
    "z = C()\n",
    "z.show()\n",
    "z.sub()\n",
    "z.add()"
   ]
  },
  {
   "cell_type": "markdown",
   "metadata": {},
   "source": [
    "_**Hierarical inheritance**_"
   ]
  },
  {
   "cell_type": "code",
   "execution_count": 22,
   "metadata": {},
   "outputs": [],
   "source": [
    "#     A\n",
    "# B       C"
   ]
  },
  {
   "cell_type": "code",
   "execution_count": 23,
   "metadata": {},
   "outputs": [
    {
     "name": "stdout",
     "output_type": "stream",
     "text": [
      "Show C\n",
      "Add A\n"
     ]
    }
   ],
   "source": [
    "class A:\n",
    "    def add(self):\n",
    "        print(\"Add A\")\n",
    "    \n",
    "class B(A):\n",
    "    def sub(self):\n",
    "        print(\"Sub B\")\n",
    "    \n",
    "class C(A):\n",
    "    def show(self):\n",
    "        print(\"Show C\")\n",
    "    \n",
    "z = C()\n",
    "z.show()\n",
    "z.add()"
   ]
  },
  {
   "cell_type": "code",
   "execution_count": 24,
   "metadata": {},
   "outputs": [
    {
     "ename": "AttributeError",
     "evalue": "'C' object has no attribute 'sub'",
     "output_type": "error",
     "traceback": [
      "\u001b[1;31m---------------------------------------------------------------------------\u001b[0m",
      "\u001b[1;31mAttributeError\u001b[0m                            Traceback (most recent call last)",
      "\u001b[1;32mc:\\Users\\HP\\OneDrive\\Desktop\\Day 7\\03_inheritance.ipynb Cell 15\u001b[0m in \u001b[0;36m<cell line: 1>\u001b[1;34m()\u001b[0m\n\u001b[1;32m----> <a href='vscode-notebook-cell:/c%3A/Users/HP/OneDrive/Desktop/Day%207/03_inheritance.ipynb#X21sZmlsZQ%3D%3D?line=0'>1</a>\u001b[0m z\u001b[39m.\u001b[39;49msub()\n",
      "\u001b[1;31mAttributeError\u001b[0m: 'C' object has no attribute 'sub'"
     ]
    }
   ],
   "source": [
    "z.sub()"
   ]
  },
  {
   "cell_type": "markdown",
   "metadata": {},
   "source": [
    "_**Multiple Inheritance**_"
   ]
  },
  {
   "cell_type": "code",
   "execution_count": 25,
   "metadata": {},
   "outputs": [],
   "source": [
    "# A       B\n",
    "#     C"
   ]
  },
  {
   "cell_type": "markdown",
   "metadata": {},
   "source": [
    "MRO - Method Resolution Order"
   ]
  },
  {
   "cell_type": "code",
   "execution_count": 26,
   "metadata": {},
   "outputs": [
    {
     "name": "stdout",
     "output_type": "stream",
     "text": [
      "Add A\n"
     ]
    }
   ],
   "source": [
    "class A:\n",
    "    def add(self):\n",
    "        print(\"Add A\")\n",
    "\n",
    "class B:\n",
    "    def add(self):\n",
    "        print(\"Add B\")\n",
    "\n",
    "class C(A,B):\n",
    "    def show(self):\n",
    "        print(\"Show C\")\n",
    "\n",
    "z = C()\n",
    "z.add()"
   ]
  },
  {
   "cell_type": "code",
   "execution_count": 28,
   "metadata": {},
   "outputs": [
    {
     "name": "stdout",
     "output_type": "stream",
     "text": [
      "(<class '__main__.C'>, <class '__main__.A'>, <class '__main__.B'>, <class 'object'>)\n"
     ]
    }
   ],
   "source": [
    "print(C.__mro__)"
   ]
  },
  {
   "cell_type": "markdown",
   "metadata": {},
   "source": [
    "_**Hybrid Inheritance**_"
   ]
  },
  {
   "cell_type": "code",
   "execution_count": 29,
   "metadata": {},
   "outputs": [],
   "source": [
    "#     A\n",
    "# B       C\n",
    "#     D"
   ]
  },
  {
   "cell_type": "code",
   "execution_count": 30,
   "metadata": {},
   "outputs": [
    {
     "name": "stdout",
     "output_type": "stream",
     "text": [
      "Add B\n",
      "(<class '__main__.D'>, <class '__main__.B'>, <class '__main__.C'>, <class '__main__.A'>, <class 'object'>)\n"
     ]
    }
   ],
   "source": [
    "class A:\n",
    "    def add(self):\n",
    "        print(\"Add A\")\n",
    "\n",
    "class B(A):\n",
    "    def add(self):\n",
    "        print(\"Add B\")\n",
    "\n",
    "class C(A):\n",
    "    def show(self):\n",
    "        print(\"Show C\")\n",
    "    \n",
    "class D(B,C):\n",
    "    def play(self):\n",
    "        print(\"Play D\")\n",
    "\n",
    "z = D()\n",
    "z.add()\n",
    "print(D.__mro__)"
   ]
  },
  {
   "cell_type": "markdown",
   "metadata": {},
   "source": [
    "---"
   ]
  }
 ],
 "metadata": {
  "kernelspec": {
   "display_name": "Python 3.10.4 64-bit",
   "language": "python",
   "name": "python3"
  },
  "language_info": {
   "codemirror_mode": {
    "name": "ipython",
    "version": 3
   },
   "file_extension": ".py",
   "mimetype": "text/x-python",
   "name": "python",
   "nbconvert_exporter": "python",
   "pygments_lexer": "ipython3",
   "version": "3.10.4"
  },
  "orig_nbformat": 4,
  "vscode": {
   "interpreter": {
    "hash": "369f2c481f4da34e4445cda3fffd2e751bd1c4d706f27375911949ba6bb62e1c"
   }
  }
 },
 "nbformat": 4,
 "nbformat_minor": 2
}
