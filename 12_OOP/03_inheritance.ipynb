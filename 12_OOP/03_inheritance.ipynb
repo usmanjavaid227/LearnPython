{
 "cells": [
  {
   "cell_type": "markdown",
   "metadata": {},
   "source": [
    "### **Class Relationships**\n",
    "- Aggregation\n",
    "- Inheritance"
   ]
  },
  {
   "cell_type": "markdown",
   "metadata": {},
   "source": [
    "> **Aggregation**(Has-A relationship)"
   ]
  },
  {
   "cell_type": "code",
   "execution_count": 2,
   "metadata": {},
   "outputs": [
    {
     "name": "stdout",
     "output_type": "stream",
     "text": [
      "Harry Potter by J.K. Rowling\n",
      "Bookcase with 1 books.\n"
     ]
    }
   ],
   "source": [
    "# aggregation is a relationship between two classes where one class uses another class, but there is no ownership. \n",
    "# aggregation example\n",
    "class Book:\n",
    "    def __init__(self, title, author):\n",
    "        self.title = title\n",
    "        self.author = author\n",
    "        \n",
    "    def __str__(self):\n",
    "        return f\"{self.title} by {self.author}\"\n",
    "\n",
    "class Bookcase:\n",
    "    def __init__(self, books=None):\n",
    "        self.books = books\n",
    "        \n",
    "    def __str__(self):\n",
    "        return f\"Bookcase with {len(self.books)} books.\"\n",
    "\n",
    "book = Book(\"Harry Potter\", \"J.K. Rowling\")\n",
    "bookcase = Bookcase([book]) # aggregation example \n",
    "print(book)\n",
    "print(bookcase)\n"
   ]
  },
  {
   "cell_type": "code",
   "execution_count": 13,
   "metadata": {},
   "outputs": [
    {
     "name": "stdout",
     "output_type": "stream",
     "text": [
      "John is 35 years old.\n",
      "Jenny is 32 years old.\n",
      "Bob is 10 years old.\n",
      "Family with 3 members.\n"
     ]
    }
   ],
   "source": [
    "# another example of aggregation\n",
    "class Person:\n",
    "    def __init__(self, name, age):\n",
    "        self.name = name\n",
    "        self.age = age\n",
    "        \n",
    "    def __str__(self):\n",
    "        return f\"{self.name} is {self.age} years old.\"\n",
    "      \n",
    "class Family:\n",
    "    def __init__(self, *people):\n",
    "        self.people = people\n",
    "        \n",
    "    def __str__(self):\n",
    "        return f\"Family with {len(self.people)} members.\"\n",
    "\n",
    "p1 = Person(\"John\", 35)\n",
    "p2 = Person(\"Jenny\", 32)\n",
    "p3 = Person(\"Bob\", 10)\n",
    "family = Family(p1, p2, p3)\n",
    "print(p1)\n",
    "print(p2)\n",
    "print(p3)\n",
    "print(family)\n"
   ]
  },
  {
   "cell_type": "markdown",
   "metadata": {},
   "source": [
    "# _**Inheritance**_"
   ]
  },
  {
   "cell_type": "markdown",
   "metadata": {},
   "source": [
    "* Acquiring properties of one class into another.\n",
    "* Inheritance is the mechanism of deriving a new class from an old one(exciting class) such that  new class inherit all the Properties of old class.\n",
    "* Inheritance is a way to form new classes using classes that have already been defined. \n",
    "\n",
    "1. single level\n",
    "2. multilevel \n",
    "3. hierarchical \n",
    "4. multiple\n",
    "5. hybrid"
   ]
  },
  {
   "cell_type": "markdown",
   "metadata": {},
   "source": [
    "_**Single Inheritance**_"
   ]
  },
  {
   "cell_type": "code",
   "execution_count": 6,
   "metadata": {},
   "outputs": [
    {
     "name": "stdout",
     "output_type": "stream",
     "text": [
      "This is Add from class A\n",
      "This is Add from class A\n",
      "\n",
      "This is sub from class B\n"
     ]
    }
   ],
   "source": [
    "class Windows7:            # parent class / super class / base class\n",
    "    def add(self):\n",
    "        print(\"This is Add from class A\")\n",
    "        \n",
    "class Windows10(Windows7): # child class / sub class / derived class\n",
    "    def sub(self):\n",
    "        print(\"This is sub from class B\")\n",
    "\n",
    "x = Windows7()\n",
    "y = Windows10()\n",
    "\n",
    "x.add()\n",
    "y.add()\n",
    "\n",
    "print()\n",
    "\n",
    "y.sub()"
   ]
  },
  {
   "cell_type": "code",
   "execution_count": 7,
   "metadata": {},
   "outputs": [
    {
     "ename": "AttributeError",
     "evalue": "'Windows7' object has no attribute 'sub'",
     "output_type": "error",
     "traceback": [
      "\u001b[1;31m---------------------------------------------------------------------------\u001b[0m",
      "\u001b[1;31mAttributeError\u001b[0m                            Traceback (most recent call last)",
      "\u001b[1;32mc:\\Users\\HP\\OneDrive\\Desktop\\Day 7\\03_inheritance.ipynb Cell 4\u001b[0m in \u001b[0;36m<cell line: 1>\u001b[1;34m()\u001b[0m\n\u001b[1;32m----> <a href='vscode-notebook-cell:/c%3A/Users/HP/OneDrive/Desktop/Day%207/03_inheritance.ipynb#W4sZmlsZQ%3D%3D?line=0'>1</a>\u001b[0m x\u001b[39m.\u001b[39;49msub()\n",
      "\u001b[1;31mAttributeError\u001b[0m: 'Windows7' object has no attribute 'sub'"
     ]
    }
   ],
   "source": [
    "x.sub()"
   ]
  },
  {
   "cell_type": "code",
   "execution_count": 8,
   "metadata": {},
   "outputs": [
    {
     "name": "stdout",
     "output_type": "stream",
     "text": [
      "This is sub from class B\n"
     ]
    }
   ],
   "source": [
    "y.sub()"
   ]
  },
  {
   "cell_type": "code",
   "execution_count": 11,
   "metadata": {},
   "outputs": [
    {
     "name": "stdout",
     "output_type": "stream",
     "text": [
      "This is Son\n",
      "Property of Son\n",
      "Property of Father\n"
     ]
    }
   ],
   "source": [
    "# example 2\n",
    "class Father:\n",
    "    def PropertyOfFather(self):\n",
    "        print(\"Property of Father\")\n",
    "# inheritance\n",
    "class Son(Father):\n",
    "    def PropertyOfSon(self):\n",
    "        print(\"Property of Son\")\n",
    "################################################################################################\n",
    "s=Son()\n",
    "s.PropertyOfSon()    # Property of Son\n",
    "s.PropertyOfFather()    # Property of Father"
   ]
  },
  {
   "cell_type": "markdown",
   "metadata": {},
   "source": [
    "> At first the constructor of child will b executed, If child don't have it then the parent's constructor is executed"
   ]
  },
  {
   "cell_type": "code",
   "execution_count": 16,
   "metadata": {},
   "outputs": [
    {
     "name": "stdout",
     "output_type": "stream",
     "text": [
      "constructor of phone class\n"
     ]
    }
   ],
   "source": [
    "# constructor inherit\n",
    "class Phone:\n",
    "    def __init__(self,name,model):\n",
    "        print(\"constructor of phone class\")\n",
    "        self.name=name \n",
    "        self.model=model\n",
    "        \n",
    "class SmartPhone(Phone):\n",
    "    pass\n",
    "\n",
    "s=SmartPhone('Oppo F7 ',2017)\n",
    "\n",
    "# if the child have no constructor, Then the constructor of parent class will be exacuted"
   ]
  },
  {
   "cell_type": "code",
   "execution_count": 15,
   "metadata": {},
   "outputs": [
    {
     "name": "stdout",
     "output_type": "stream",
     "text": [
      "Init A\n",
      "Init B\n"
     ]
    }
   ],
   "source": [
    "class A:\n",
    "    def __init__(self):\n",
    "        print(\"Init A\")\n",
    "    \n",
    "    def add(self):\n",
    "        print(\"Add A\")\n",
    "    \n",
    "class B(A):\n",
    "    def __init__(self):\n",
    "        print(\"Init B\")\n",
    "    \n",
    "    def sub(self):\n",
    "        print(\"Sub B\")\n",
    "    \n",
    "x = A()\n",
    "y = B()"
   ]
  },
  {
   "cell_type": "markdown",
   "metadata": {},
   "source": [
    "> When you want to use the constructor of base class, You should use `super()` keyword or the `name of the parent class`"
   ]
  },
  {
   "cell_type": "code",
   "execution_count": 16,
   "metadata": {},
   "outputs": [
    {
     "name": "stdout",
     "output_type": "stream",
     "text": [
      "Init A\n",
      "Init A\n",
      "Init B\n"
     ]
    }
   ],
   "source": [
    "class A:\n",
    "    def __init__(self):\n",
    "        print(\"Init A\")\n",
    "    \n",
    "    def add(self):\n",
    "        print(\"Add A\")\n",
    "    \n",
    "class B(A):\n",
    "    def __init__(self):\n",
    "        A.__init__(self) # super().__init__()\n",
    "        print(\"Init B\")\n",
    "    \n",
    "    def sub(self):\n",
    "        print(\"Sub B\")\n",
    "    \n",
    "x = A()\n",
    "y = B()"
   ]
  },
  {
   "cell_type": "code",
   "execution_count": 17,
   "metadata": {},
   "outputs": [
    {
     "name": "stdout",
     "output_type": "stream",
     "text": [
      "20\n"
     ]
    },
    {
     "ename": "AttributeError",
     "evalue": "'B' object has no attribute 'a'",
     "output_type": "error",
     "traceback": [
      "\u001b[1;31m---------------------------------------------------------------------------\u001b[0m",
      "\u001b[1;31mAttributeError\u001b[0m                            Traceback (most recent call last)",
      "\u001b[1;32mc:\\Users\\HP\\OneDrive\\Desktop\\Complete DataScience\\Programming\\Python\\12_OOP\\03_inheritance.ipynb Cell 17\u001b[0m in \u001b[0;36m<cell line: 13>\u001b[1;34m()\u001b[0m\n\u001b[0;32m     <a href='vscode-notebook-cell:/c%3A/Users/HP/OneDrive/Desktop/Complete%20DataScience/Programming/Python/12_OOP/03_inheritance.ipynb#X45sZmlsZQ%3D%3D?line=10'>11</a>\u001b[0m x \u001b[39m=\u001b[39m B()\n\u001b[0;32m     <a href='vscode-notebook-cell:/c%3A/Users/HP/OneDrive/Desktop/Complete%20DataScience/Programming/Python/12_OOP/03_inheritance.ipynb#X45sZmlsZQ%3D%3D?line=11'>12</a>\u001b[0m \u001b[39mprint\u001b[39m(x\u001b[39m.\u001b[39mb)\n\u001b[1;32m---> <a href='vscode-notebook-cell:/c%3A/Users/HP/OneDrive/Desktop/Complete%20DataScience/Programming/Python/12_OOP/03_inheritance.ipynb#X45sZmlsZQ%3D%3D?line=12'>13</a>\u001b[0m \u001b[39mprint\u001b[39m(x\u001b[39m.\u001b[39;49ma)\n",
      "\u001b[1;31mAttributeError\u001b[0m: 'B' object has no attribute 'a'"
     ]
    }
   ],
   "source": [
    "# child can't access parent's private members of parent class\n",
    "class A:\n",
    "    def __init__(self):\n",
    "        self.__a = 10\n",
    "        self.b = 20\n",
    "\n",
    "class B(A):\n",
    "     def __init__(self):\n",
    "         super().__init__()\n",
    "\n",
    "x = B()\n",
    "print(x.b)\n",
    "print(x.a)\n"
   ]
  },
  {
   "cell_type": "markdown",
   "metadata": {},
   "source": [
    "### **Method overriding**"
   ]
  },
  {
   "cell_type": "code",
   "execution_count": 19,
   "metadata": {},
   "outputs": [
    {
     "name": "stdout",
     "output_type": "stream",
     "text": [
      "Init B\n",
      "Add B\n"
     ]
    }
   ],
   "source": [
    "# method overriding : same name in 2 different classes\n",
    "#        By default, method of child is called,but you can access it's parent by using super or class_name\n",
    "\n",
    "class A:\n",
    "    def __init__(self):\n",
    "        print(\"Init A\")\n",
    "    \n",
    "    def add(self):\n",
    "        print(\"Add A\")\n",
    "    \n",
    "class B(A):\n",
    "    def __init__(self):\n",
    "        print(\"Init B\")\n",
    "    \n",
    "    def add(self):\n",
    "        print(\"Add B\")\n",
    "    \n",
    "x = B()\n",
    "x.add()"
   ]
  },
  {
   "cell_type": "markdown",
   "metadata": {},
   "source": [
    " **Method overloading**  : same function's name in same class but different parameters .\\\n",
    " Acturally In python it is not possible"
   ]
  },
  {
   "cell_type": "code",
   "execution_count": 10,
   "metadata": {},
   "outputs": [
    {
     "name": "stdout",
     "output_type": "stream",
     "text": [
      "6\n"
     ]
    }
   ],
   "source": [
    "def play(a,b):\n",
    "    print(a)\n",
    "    print(b)\n",
    "    \n",
    "def play(x,y,z):   # this fn will be called\n",
    "    print(x + y + z)\n",
    "\n",
    "play(1,2,3) \n",
    "# play(1,2) # error because of ambiguity \n",
    "# ambiguity is when the compiler is not able to decide which function to call\n"
   ]
  },
  {
   "cell_type": "code",
   "execution_count": 17,
   "metadata": {},
   "outputs": [
    {
     "name": "stdout",
     "output_type": "stream",
     "text": [
      "3\n",
      "6\n",
      "\n",
      "\n",
      "6\n",
      "3\n"
     ]
    }
   ],
   "source": [
    "# python doesn't support method overloading, Infact it provide the support of default arguments \n",
    "# to overcome the problem of method overloading  \n",
    "\n",
    "# function overloading\n",
    "def add(a,b,c=0):\n",
    "    return a+b+c\n",
    "print(add(1,2))\n",
    "print(add(1,2,3))\n",
    "print(end='\\n\\n')\n",
    "\n",
    "# #################### #\n",
    "#  method overloading  #\n",
    "# #################### #\n",
    "class A:\n",
    "    def add(self,a,b,c=0):\n",
    "        return a+b+c\n",
    "a=A()\n",
    "print(a.add(1,2,3))\n",
    "print(a.add(1,2))\n"
   ]
  },
  {
   "cell_type": "markdown",
   "metadata": {},
   "source": [
    "=> `super()` keyword"
   ]
  },
  {
   "cell_type": "code",
   "execution_count": 46,
   "metadata": {},
   "outputs": [
    {
     "name": "stdout",
     "output_type": "stream",
     "text": [
      "Init B\n",
      "Add B\n",
      "Add A\n"
     ]
    }
   ],
   "source": [
    "# super() : to access parent's method in child class & super can access only parent's method & not used outside the class\n",
    "class A:\n",
    "    def __init__(self):\n",
    "        print(\"Init A\")\n",
    "    \n",
    "    def add(self):\n",
    "        print(\"Add A\")\n",
    "    \n",
    "class B(A):\n",
    "    def __init__(self):\n",
    "        print(\"Init B\")\n",
    "    \n",
    "    def add(self):\n",
    "        print(\"Add B\")\n",
    "        super().add() # A.add(self)\n",
    "    \n",
    "x = B()\n",
    "x.add()"
   ]
  },
  {
   "cell_type": "markdown",
   "metadata": {},
   "source": [
    "_**Multilevel Inheritance**_"
   ]
  },
  {
   "cell_type": "code",
   "execution_count": 20,
   "metadata": {},
   "outputs": [
    {
     "name": "stdout",
     "output_type": "stream",
     "text": [
      "Init A\n",
      "Init B\n",
      "Init C\n"
     ]
    }
   ],
   "source": [
    "# Multilevel Inheritance\n",
    "class A:\n",
    "    def __init__(self):\n",
    "        print(\"Init A\")\n",
    "class B(A):\n",
    "    def __init__(self):\n",
    "        print(\"Init B\")\n",
    "class C(B):\n",
    "    def __init__(self):\n",
    "        A.__init__(self)\n",
    "        B.__init__(self)\n",
    "        print(\"Init C\")\n",
    "\n",
    "x = C()"
   ]
  },
  {
   "cell_type": "code",
   "execution_count": 21,
   "metadata": {},
   "outputs": [
    {
     "name": "stdout",
     "output_type": "stream",
     "text": [
      "Show C\n",
      "Sub B\n",
      "Add A\n"
     ]
    }
   ],
   "source": [
    "class A:\n",
    "    def add(self):\n",
    "        print(\"Add A\")\n",
    "    \n",
    "class B(A):\n",
    "    def sub(self):\n",
    "        print(\"Sub B\")\n",
    "    \n",
    "class C(B):\n",
    "    def show(self):\n",
    "        print(\"Show C\")\n",
    "    \n",
    "z = C()\n",
    "z.show()\n",
    "z.sub()\n",
    "z.add()"
   ]
  },
  {
   "cell_type": "markdown",
   "metadata": {},
   "source": [
    "_**Hierarical inheritance**_"
   ]
  },
  {
   "cell_type": "code",
   "execution_count": 22,
   "metadata": {},
   "outputs": [],
   "source": [
    "#     A\n",
    "# B       C"
   ]
  },
  {
   "cell_type": "code",
   "execution_count": 23,
   "metadata": {},
   "outputs": [
    {
     "name": "stdout",
     "output_type": "stream",
     "text": [
      "Show C\n",
      "Add A\n"
     ]
    }
   ],
   "source": [
    "class A:\n",
    "    def add(self):\n",
    "        print(\"Add A\")\n",
    "    \n",
    "class B(A):\n",
    "    def sub(self):\n",
    "        print(\"Sub B\")\n",
    "    \n",
    "class C(A):\n",
    "    def show(self):\n",
    "        print(\"Show C\")\n",
    "    \n",
    "z = C()\n",
    "z.show()\n",
    "z.add()"
   ]
  },
  {
   "cell_type": "code",
   "execution_count": 24,
   "metadata": {},
   "outputs": [
    {
     "ename": "AttributeError",
     "evalue": "'C' object has no attribute 'sub'",
     "output_type": "error",
     "traceback": [
      "\u001b[1;31m---------------------------------------------------------------------------\u001b[0m",
      "\u001b[1;31mAttributeError\u001b[0m                            Traceback (most recent call last)",
      "\u001b[1;32mc:\\Users\\HP\\OneDrive\\Desktop\\Day 7\\03_inheritance.ipynb Cell 15\u001b[0m in \u001b[0;36m<cell line: 1>\u001b[1;34m()\u001b[0m\n\u001b[1;32m----> <a href='vscode-notebook-cell:/c%3A/Users/HP/OneDrive/Desktop/Day%207/03_inheritance.ipynb#X21sZmlsZQ%3D%3D?line=0'>1</a>\u001b[0m z\u001b[39m.\u001b[39;49msub()\n",
      "\u001b[1;31mAttributeError\u001b[0m: 'C' object has no attribute 'sub'"
     ]
    }
   ],
   "source": [
    "z.sub()"
   ]
  },
  {
   "cell_type": "markdown",
   "metadata": {},
   "source": [
    "_**Multiple Inheritance**_"
   ]
  },
  {
   "cell_type": "code",
   "execution_count": 25,
   "metadata": {},
   "outputs": [],
   "source": [
    "# A       B\n",
    "#     C"
   ]
  },
  {
   "attachments": {},
   "cell_type": "markdown",
   "metadata": {},
   "source": [
    "**MRO** - Method Resolution Order => priority check"
   ]
  },
  {
   "cell_type": "code",
   "execution_count": 26,
   "metadata": {},
   "outputs": [
    {
     "name": "stdout",
     "output_type": "stream",
     "text": [
      "Add A\n"
     ]
    }
   ],
   "source": [
    "class A:\n",
    "    def add(self):\n",
    "        print(\"Add A\")\n",
    "\n",
    "class B:\n",
    "    def add(self):\n",
    "        print(\"Add B\")\n",
    "\n",
    "class C(A,B):\n",
    "    def show(self):\n",
    "        print(\"Show C\")\n",
    "\n",
    "z = C()\n",
    "z.add()"
   ]
  },
  {
   "cell_type": "code",
   "execution_count": 28,
   "metadata": {},
   "outputs": [
    {
     "name": "stdout",
     "output_type": "stream",
     "text": [
      "(<class '__main__.C'>, <class '__main__.A'>, <class '__main__.B'>, <class 'object'>)\n"
     ]
    }
   ],
   "source": [
    "print(C.__mro__)"
   ]
  },
  {
   "cell_type": "markdown",
   "metadata": {},
   "source": [
    "_**Hybrid Inheritance**_"
   ]
  },
  {
   "cell_type": "code",
   "execution_count": 29,
   "metadata": {},
   "outputs": [],
   "source": [
    "#     A\n",
    "# B       C\n",
    "#     D"
   ]
  },
  {
   "cell_type": "code",
   "execution_count": 30,
   "metadata": {},
   "outputs": [
    {
     "name": "stdout",
     "output_type": "stream",
     "text": [
      "Add B\n",
      "(<class '__main__.D'>, <class '__main__.B'>, <class '__main__.C'>, <class '__main__.A'>, <class 'object'>)\n"
     ]
    }
   ],
   "source": [
    "class A:\n",
    "    def add(self):\n",
    "        print(\"Add A\")\n",
    "\n",
    "class B(A):\n",
    "    def add(self):\n",
    "        print(\"Add B\")\n",
    "\n",
    "class C(A):\n",
    "    def show(self):\n",
    "        print(\"Show C\")\n",
    "    \n",
    "class D(B,C):\n",
    "    def play(self):\n",
    "        print(\"Play D\")\n",
    "\n",
    "z = D()\n",
    "z.add()\n",
    "print(D.__mro__)"
   ]
  },
  {
   "cell_type": "markdown",
   "metadata": {},
   "source": [
    "---"
   ]
  }
 ],
 "metadata": {
  "kernelspec": {
   "display_name": "Python 3.10.4 64-bit",
   "language": "python",
   "name": "python3"
  },
  "language_info": {
   "codemirror_mode": {
    "name": "ipython",
    "version": 3
   },
   "file_extension": ".py",
   "mimetype": "text/x-python",
   "name": "python",
   "nbconvert_exporter": "python",
   "pygments_lexer": "ipython3",
   "version": "3.10.4"
  },
  "orig_nbformat": 4,
  "vscode": {
   "interpreter": {
    "hash": "369f2c481f4da34e4445cda3fffd2e751bd1c4d706f27375911949ba6bb62e1c"
   }
  }
 },
 "nbformat": 4,
 "nbformat_minor": 2
}
